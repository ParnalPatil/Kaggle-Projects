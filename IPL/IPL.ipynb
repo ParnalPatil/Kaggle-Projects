{
 "cells": [
  {
   "cell_type": "code",
   "execution_count": 2,
   "metadata": {},
   "outputs": [
    {
     "data": {
      "text/html": [
       "        <script type=\"text/javascript\">\n",
       "        window.PlotlyConfig = {MathJaxConfig: 'local'};\n",
       "        if (window.MathJax) {MathJax.Hub.Config({SVG: {font: \"STIX-Web\"}});}\n",
       "        if (typeof require !== 'undefined') {\n",
       "        require.undef(\"plotly\");\n",
       "        requirejs.config({\n",
       "            paths: {\n",
       "                'plotly': ['https://cdn.plot.ly/plotly-latest.min']\n",
       "            }\n",
       "        });\n",
       "        require(['plotly'], function(Plotly) {\n",
       "            window._Plotly = Plotly;\n",
       "        });\n",
       "        }\n",
       "        </script>\n",
       "        "
      ]
     },
     "metadata": {},
     "output_type": "display_data"
    }
   ],
   "source": [
    "import numpy as np # linear algebra\n",
    "import pandas as pd # data processing, CSV file I/O (e.g. pd.read_csv)\n",
    "import matplotlib.pyplot as mlt\n",
    "import seaborn as sns\n",
    "mlt.style.use('fivethirtyeight')\n",
    "import plotly.offline as py\n",
    "py.init_notebook_mode(connected=True)\n",
    "import plotly.graph_objs as go\n",
    "import plotly.tools as tls"
   ]
  },
  {
   "cell_type": "code",
   "execution_count": 3,
   "metadata": {},
   "outputs": [
    {
     "data": {
      "text/html": [
       "<div>\n",
       "<style scoped>\n",
       "    .dataframe tbody tr th:only-of-type {\n",
       "        vertical-align: middle;\n",
       "    }\n",
       "\n",
       "    .dataframe tbody tr th {\n",
       "        vertical-align: top;\n",
       "    }\n",
       "\n",
       "    .dataframe thead th {\n",
       "        text-align: right;\n",
       "    }\n",
       "</style>\n",
       "<table border=\"1\" class=\"dataframe\">\n",
       "  <thead>\n",
       "    <tr style=\"text-align: right;\">\n",
       "      <th></th>\n",
       "      <th>id</th>\n",
       "      <th>season</th>\n",
       "      <th>city</th>\n",
       "      <th>date</th>\n",
       "      <th>team1</th>\n",
       "      <th>team2</th>\n",
       "      <th>toss_winner</th>\n",
       "      <th>toss_decision</th>\n",
       "      <th>result</th>\n",
       "      <th>dl_applied</th>\n",
       "      <th>winner</th>\n",
       "      <th>win_by_runs</th>\n",
       "      <th>win_by_wickets</th>\n",
       "      <th>player_of_match</th>\n",
       "      <th>venue</th>\n",
       "      <th>umpire1</th>\n",
       "      <th>umpire2</th>\n",
       "      <th>umpire3</th>\n",
       "    </tr>\n",
       "  </thead>\n",
       "  <tbody>\n",
       "    <tr>\n",
       "      <td>0</td>\n",
       "      <td>1</td>\n",
       "      <td>2017</td>\n",
       "      <td>Hyderabad</td>\n",
       "      <td>2017-04-05</td>\n",
       "      <td>Sunrisers Hyderabad</td>\n",
       "      <td>Royal Challengers Bangalore</td>\n",
       "      <td>Royal Challengers Bangalore</td>\n",
       "      <td>field</td>\n",
       "      <td>normal</td>\n",
       "      <td>0</td>\n",
       "      <td>Sunrisers Hyderabad</td>\n",
       "      <td>35</td>\n",
       "      <td>0</td>\n",
       "      <td>Yuvraj Singh</td>\n",
       "      <td>Rajiv Gandhi International Stadium, Uppal</td>\n",
       "      <td>AY Dandekar</td>\n",
       "      <td>NJ Llong</td>\n",
       "      <td>NaN</td>\n",
       "    </tr>\n",
       "    <tr>\n",
       "      <td>1</td>\n",
       "      <td>2</td>\n",
       "      <td>2017</td>\n",
       "      <td>Pune</td>\n",
       "      <td>2017-04-06</td>\n",
       "      <td>Mumbai Indians</td>\n",
       "      <td>Rising Pune Supergiant</td>\n",
       "      <td>Rising Pune Supergiant</td>\n",
       "      <td>field</td>\n",
       "      <td>normal</td>\n",
       "      <td>0</td>\n",
       "      <td>Rising Pune Supergiant</td>\n",
       "      <td>0</td>\n",
       "      <td>7</td>\n",
       "      <td>SPD Smith</td>\n",
       "      <td>Maharashtra Cricket Association Stadium</td>\n",
       "      <td>A Nand Kishore</td>\n",
       "      <td>S Ravi</td>\n",
       "      <td>NaN</td>\n",
       "    </tr>\n",
       "    <tr>\n",
       "      <td>2</td>\n",
       "      <td>3</td>\n",
       "      <td>2017</td>\n",
       "      <td>Rajkot</td>\n",
       "      <td>2017-04-07</td>\n",
       "      <td>Gujarat Lions</td>\n",
       "      <td>Kolkata Knight Riders</td>\n",
       "      <td>Kolkata Knight Riders</td>\n",
       "      <td>field</td>\n",
       "      <td>normal</td>\n",
       "      <td>0</td>\n",
       "      <td>Kolkata Knight Riders</td>\n",
       "      <td>0</td>\n",
       "      <td>10</td>\n",
       "      <td>CA Lynn</td>\n",
       "      <td>Saurashtra Cricket Association Stadium</td>\n",
       "      <td>Nitin Menon</td>\n",
       "      <td>CK Nandan</td>\n",
       "      <td>NaN</td>\n",
       "    </tr>\n",
       "    <tr>\n",
       "      <td>3</td>\n",
       "      <td>4</td>\n",
       "      <td>2017</td>\n",
       "      <td>Indore</td>\n",
       "      <td>2017-04-08</td>\n",
       "      <td>Rising Pune Supergiant</td>\n",
       "      <td>Kings XI Punjab</td>\n",
       "      <td>Kings XI Punjab</td>\n",
       "      <td>field</td>\n",
       "      <td>normal</td>\n",
       "      <td>0</td>\n",
       "      <td>Kings XI Punjab</td>\n",
       "      <td>0</td>\n",
       "      <td>6</td>\n",
       "      <td>GJ Maxwell</td>\n",
       "      <td>Holkar Cricket Stadium</td>\n",
       "      <td>AK Chaudhary</td>\n",
       "      <td>C Shamshuddin</td>\n",
       "      <td>NaN</td>\n",
       "    </tr>\n",
       "    <tr>\n",
       "      <td>4</td>\n",
       "      <td>5</td>\n",
       "      <td>2017</td>\n",
       "      <td>Bangalore</td>\n",
       "      <td>2017-04-08</td>\n",
       "      <td>Royal Challengers Bangalore</td>\n",
       "      <td>Delhi Daredevils</td>\n",
       "      <td>Royal Challengers Bangalore</td>\n",
       "      <td>bat</td>\n",
       "      <td>normal</td>\n",
       "      <td>0</td>\n",
       "      <td>Royal Challengers Bangalore</td>\n",
       "      <td>15</td>\n",
       "      <td>0</td>\n",
       "      <td>KM Jadhav</td>\n",
       "      <td>M Chinnaswamy Stadium</td>\n",
       "      <td>NaN</td>\n",
       "      <td>NaN</td>\n",
       "      <td>NaN</td>\n",
       "    </tr>\n",
       "  </tbody>\n",
       "</table>\n",
       "</div>"
      ],
      "text/plain": [
       "   id  season       city        date                        team1  \\\n",
       "0   1    2017  Hyderabad  2017-04-05          Sunrisers Hyderabad   \n",
       "1   2    2017       Pune  2017-04-06               Mumbai Indians   \n",
       "2   3    2017     Rajkot  2017-04-07                Gujarat Lions   \n",
       "3   4    2017     Indore  2017-04-08       Rising Pune Supergiant   \n",
       "4   5    2017  Bangalore  2017-04-08  Royal Challengers Bangalore   \n",
       "\n",
       "                         team2                  toss_winner toss_decision  \\\n",
       "0  Royal Challengers Bangalore  Royal Challengers Bangalore         field   \n",
       "1       Rising Pune Supergiant       Rising Pune Supergiant         field   \n",
       "2        Kolkata Knight Riders        Kolkata Knight Riders         field   \n",
       "3              Kings XI Punjab              Kings XI Punjab         field   \n",
       "4             Delhi Daredevils  Royal Challengers Bangalore           bat   \n",
       "\n",
       "   result  dl_applied                       winner  win_by_runs  \\\n",
       "0  normal           0          Sunrisers Hyderabad           35   \n",
       "1  normal           0       Rising Pune Supergiant            0   \n",
       "2  normal           0        Kolkata Knight Riders            0   \n",
       "3  normal           0              Kings XI Punjab            0   \n",
       "4  normal           0  Royal Challengers Bangalore           15   \n",
       "\n",
       "   win_by_wickets player_of_match                                      venue  \\\n",
       "0               0    Yuvraj Singh  Rajiv Gandhi International Stadium, Uppal   \n",
       "1               7       SPD Smith    Maharashtra Cricket Association Stadium   \n",
       "2              10         CA Lynn     Saurashtra Cricket Association Stadium   \n",
       "3               6      GJ Maxwell                     Holkar Cricket Stadium   \n",
       "4               0       KM Jadhav                      M Chinnaswamy Stadium   \n",
       "\n",
       "          umpire1        umpire2  umpire3  \n",
       "0     AY Dandekar       NJ Llong      NaN  \n",
       "1  A Nand Kishore         S Ravi      NaN  \n",
       "2     Nitin Menon      CK Nandan      NaN  \n",
       "3    AK Chaudhary  C Shamshuddin      NaN  \n",
       "4             NaN            NaN      NaN  "
      ]
     },
     "execution_count": 3,
     "metadata": {},
     "output_type": "execute_result"
    }
   ],
   "source": [
    "matches=pd.read_csv(r'C:\\Users\\Parnal\\Documents\\Python for Data Science and ML Bootcamp\\Kaggle\\IPL\\matches.csv')   \n",
    "delivery=pd.read_csv(r'C:\\Users\\Parnal\\Documents\\Python for Data Science and ML Bootcamp\\Kaggle\\IPL\\deliveries.csv')\n",
    "matches.head(5)"
   ]
  },
  {
   "cell_type": "code",
   "execution_count": 4,
   "metadata": {},
   "outputs": [],
   "source": [
    "matches.drop(['umpire3'],axis=1,inplace=True)  #since all the values are NaN\n",
    "delivery.fillna(0,inplace=True)"
   ]
  },
  {
   "cell_type": "code",
   "execution_count": 5,
   "metadata": {},
   "outputs": [
    {
     "data": {
      "text/plain": [
       "array(['Sunrisers Hyderabad', 'Mumbai Indians', 'Gujarat Lions',\n",
       "       'Rising Pune Supergiant', 'Royal Challengers Bangalore',\n",
       "       'Kolkata Knight Riders', 'Delhi Daredevils', 'Kings XI Punjab',\n",
       "       'Chennai Super Kings', 'Rajasthan Royals', 'Deccan Chargers',\n",
       "       'Kochi Tuskers Kerala', 'Pune Warriors', 'Rising Pune Supergiants'],\n",
       "      dtype=object)"
      ]
     },
     "execution_count": 5,
     "metadata": {},
     "output_type": "execute_result"
    }
   ],
   "source": [
    "matches['team1'].unique()"
   ]
  },
  {
   "cell_type": "code",
   "execution_count": 6,
   "metadata": {},
   "outputs": [],
   "source": [
    "matches.replace(['Mumbai Indians','Kolkata Knight Riders','Royal Challengers Bangalore','Deccan Chargers','Chennai Super Kings',\n",
    "                 'Rajasthan Royals','Delhi Daredevils','Gujarat Lions','Kings XI Punjab',\n",
    "                 'Sunrisers Hyderabad','Rising Pune Supergiants','Kochi Tuskers Kerala','Pune Warriors','Rising Pune Supergiant']\n",
    "                ,['MI','KKR','RCB','DC','CSK','RR','DD','GL','KXIP','SRH','RPS','KTK','PW','RPS'],inplace=True)\n",
    "\n",
    "delivery.replace(['Mumbai Indians','Kolkata Knight Riders','Royal Challengers Bangalore','Deccan Chargers','Chennai Super Kings',\n",
    "                 'Rajasthan Royals','Delhi Daredevils','Gujarat Lions','Kings XI Punjab',\n",
    "                 'Sunrisers Hyderabad','Rising Pune Supergiants','Kochi Tuskers Kerala','Pune Warriors','Rising Pune Supergiant']\n",
    "                ,['MI','KKR','RCB','DC','CSK','RR','DD','GL','KXIP','SRH','RPS','KTK','PW','RPS'],inplace=True)"
   ]
  },
  {
   "cell_type": "code",
   "execution_count": 7,
   "metadata": {},
   "outputs": [
    {
     "name": "stdout",
     "output_type": "stream",
     "text": [
      "Total Matches Played: 636\n",
      " \n",
      " Venues Played At: ['Hyderabad' 'Pune' 'Rajkot' 'Indore' 'Bangalore' 'Mumbai' 'Kolkata'\n",
      " 'Delhi' 'Chandigarh' 'Kanpur' 'Jaipur' 'Chennai' 'Cape Town'\n",
      " 'Port Elizabeth' 'Durban' 'Centurion' 'East London' 'Johannesburg'\n",
      " 'Kimberley' 'Bloemfontein' 'Ahmedabad' 'Cuttack' 'Nagpur' 'Dharamsala'\n",
      " 'Kochi' 'Visakhapatnam' 'Raipur' 'Ranchi' 'Abu Dhabi' 'Sharjah' nan]\n",
      " \n",
      " Teams : ['SRH' 'MI' 'GL' 'RPS' 'RCB' 'KKR' 'DD' 'KXIP' 'CSK' 'RR' 'DC' 'KTK' 'PW']\n"
     ]
    }
   ],
   "source": [
    "print('Total Matches Played:',matches.shape[0])\n",
    "print(' \\n Venues Played At:',matches['city'].unique())     \n",
    "print(' \\n Teams :',matches['team1'].unique())"
   ]
  },
  {
   "cell_type": "code",
   "execution_count": 8,
   "metadata": {},
   "outputs": [
    {
     "name": "stdout",
     "output_type": "stream",
     "text": [
      "Total venues played at: 30\n",
      "\n",
      "Total umpires  44\n"
     ]
    }
   ],
   "source": [
    "print('Total venues played at:',matches['city'].nunique())\n",
    "print('\\nTotal umpires ',matches['umpire1'].nunique())"
   ]
  },
  {
   "cell_type": "code",
   "execution_count": 9,
   "metadata": {},
   "outputs": [
    {
     "name": "stdout",
     "output_type": "stream",
     "text": [
      "CH Gayle  : has most man of the match awards\n",
      "MI : has the highest number of match wins\n"
     ]
    }
   ],
   "source": [
    "print((matches['player_of_match'].value_counts()).idxmax(),' : has most man of the match awards')\n",
    "print(((matches['winner']).value_counts()).idxmax(),': has the highest number of match wins')"
   ]
  },
  {
   "cell_type": "code",
   "execution_count": 10,
   "metadata": {},
   "outputs": [
    {
     "data": {
      "text/html": [
       "<div>\n",
       "<style scoped>\n",
       "    .dataframe tbody tr th:only-of-type {\n",
       "        vertical-align: middle;\n",
       "    }\n",
       "\n",
       "    .dataframe tbody tr th {\n",
       "        vertical-align: top;\n",
       "    }\n",
       "\n",
       "    .dataframe thead th {\n",
       "        text-align: right;\n",
       "    }\n",
       "</style>\n",
       "<table border=\"1\" class=\"dataframe\">\n",
       "  <thead>\n",
       "    <tr style=\"text-align: right;\">\n",
       "      <th></th>\n",
       "      <th>season</th>\n",
       "      <th>team1</th>\n",
       "      <th>team2</th>\n",
       "      <th>winner</th>\n",
       "      <th>win_by_runs</th>\n",
       "    </tr>\n",
       "  </thead>\n",
       "  <tbody>\n",
       "    <tr>\n",
       "      <td>43</td>\n",
       "      <td>2017</td>\n",
       "      <td>MI</td>\n",
       "      <td>DD</td>\n",
       "      <td>MI</td>\n",
       "      <td>146</td>\n",
       "    </tr>\n",
       "  </tbody>\n",
       "</table>\n",
       "</div>"
      ],
      "text/plain": [
       "    season team1 team2 winner  win_by_runs\n",
       "43    2017    MI    DD     MI          146"
      ]
     },
     "execution_count": 10,
     "metadata": {},
     "output_type": "execute_result"
    }
   ],
   "source": [
    "df=matches.iloc[[matches['win_by_runs'].idxmax()]]\n",
    "df[['season','team1','team2','winner','win_by_runs']]"
   ]
  },
  {
   "cell_type": "code",
   "execution_count": 11,
   "metadata": {},
   "outputs": [
    {
     "data": {
      "text/html": [
       "<div>\n",
       "<style scoped>\n",
       "    .dataframe tbody tr th:only-of-type {\n",
       "        vertical-align: middle;\n",
       "    }\n",
       "\n",
       "    .dataframe tbody tr th {\n",
       "        vertical-align: top;\n",
       "    }\n",
       "\n",
       "    .dataframe thead th {\n",
       "        text-align: right;\n",
       "    }\n",
       "</style>\n",
       "<table border=\"1\" class=\"dataframe\">\n",
       "  <thead>\n",
       "    <tr style=\"text-align: right;\">\n",
       "      <th></th>\n",
       "      <th>season</th>\n",
       "      <th>team1</th>\n",
       "      <th>team2</th>\n",
       "      <th>winner</th>\n",
       "      <th>win_by_wickets</th>\n",
       "    </tr>\n",
       "  </thead>\n",
       "  <tbody>\n",
       "    <tr>\n",
       "      <td>2</td>\n",
       "      <td>2017</td>\n",
       "      <td>GL</td>\n",
       "      <td>KKR</td>\n",
       "      <td>KKR</td>\n",
       "      <td>10</td>\n",
       "    </tr>\n",
       "  </tbody>\n",
       "</table>\n",
       "</div>"
      ],
      "text/plain": [
       "   season team1 team2 winner  win_by_wickets\n",
       "2    2017    GL   KKR    KKR              10"
      ]
     },
     "execution_count": 11,
     "metadata": {},
     "output_type": "execute_result"
    }
   ],
   "source": [
    "df=matches.iloc[[matches['win_by_wickets'].idxmax()]]\n",
    "df[['season','team1','team2','winner','win_by_wickets']]"
   ]
  },
  {
   "cell_type": "code",
   "execution_count": 12,
   "metadata": {},
   "outputs": [
    {
     "data": {
      "text/plain": [
       "<matplotlib.axes._subplots.AxesSubplot at 0x16dcf920948>"
      ]
     },
     "execution_count": 12,
     "metadata": {},
     "output_type": "execute_result"
    },
    {
     "data": {
      "image/png": "[encoded data removed]",
      "text/plain": [
       "<Figure size 432x288 with 1 Axes>"
      ]
     },
     "metadata": {
      "needs_background": "light"
     },
     "output_type": "display_data"
    }
   ],
   "source": [
    "(matches['toss_decision'].value_counts()/636).plot.bar()"
   ]
  },
  {
   "cell_type": "code",
   "execution_count": 13,
   "metadata": {},
   "outputs": [
    {
     "data": {
      "image/png": "[encoded data removed]",
      "text/plain": [
       "<Figure size 720x432 with 1 Axes>"
      ]
     },
     "metadata": {
      "needs_background": "light"
     },
     "output_type": "display_data"
    }
   ],
   "source": [
    "mlt.subplots(figsize=(10,6))\n",
    "sns.countplot(x='season',hue='toss_decision',data=matches)\n",
    "mlt.show()"
   ]
  },
  {
   "cell_type": "code",
   "execution_count": 18,
   "metadata": {},
   "outputs": [
    {
     "data": {
      "image/png": "[encoded data removed]",
      "text/plain": [
       "<Figure size 720x432 with 1 Axes>"
      ]
     },
     "metadata": {
      "needs_background": "light"
     },
     "output_type": "display_data"
    }
   ],
   "source": [
    "mlt.subplots(figsize=(10,6))\n",
    "ax=matches['toss_winner'].value_counts().plot.bar(width=0.9,color=sns.color_palette('RdYlGn',20))\n",
    "for p in ax.patches:\n",
    "    ax.annotate(format(p.get_height()), (p.get_x()+0.35, p.get_height()+1))\n",
    "mlt.show()"
   ]
  },
  {
   "cell_type": "code",
   "execution_count": 19,
   "metadata": {},
   "outputs": [
    {
     "data": {
      "text/html": [
       "<div>\n",
       "<style scoped>\n",
       "    .dataframe tbody tr th:only-of-type {\n",
       "        vertical-align: middle;\n",
       "    }\n",
       "\n",
       "    .dataframe tbody tr th {\n",
       "        vertical-align: top;\n",
       "    }\n",
       "\n",
       "    .dataframe thead th {\n",
       "        text-align: right;\n",
       "    }\n",
       "</style>\n",
       "<table border=\"1\" class=\"dataframe\">\n",
       "  <thead>\n",
       "    <tr style=\"text-align: right;\">\n",
       "      <th></th>\n",
       "      <th>Total Matches</th>\n",
       "      <th>wins</th>\n",
       "    </tr>\n",
       "    <tr>\n",
       "      <th>Team</th>\n",
       "      <th></th>\n",
       "      <th></th>\n",
       "    </tr>\n",
       "  </thead>\n",
       "  <tbody>\n",
       "    <tr>\n",
       "      <td>MI</td>\n",
       "      <td>157</td>\n",
       "      <td>92</td>\n",
       "    </tr>\n",
       "    <tr>\n",
       "      <td>RCB</td>\n",
       "      <td>152</td>\n",
       "      <td>79</td>\n",
       "    </tr>\n",
       "    <tr>\n",
       "      <td>KXIP</td>\n",
       "      <td>148</td>\n",
       "      <td>77</td>\n",
       "    </tr>\n",
       "    <tr>\n",
       "      <td>KKR</td>\n",
       "      <td>148</td>\n",
       "      <td>73</td>\n",
       "    </tr>\n",
       "    <tr>\n",
       "      <td>DD</td>\n",
       "      <td>147</td>\n",
       "      <td>70</td>\n",
       "    </tr>\n",
       "    <tr>\n",
       "      <td>CSK</td>\n",
       "      <td>131</td>\n",
       "      <td>63</td>\n",
       "    </tr>\n",
       "    <tr>\n",
       "      <td>RR</td>\n",
       "      <td>118</td>\n",
       "      <td>62</td>\n",
       "    </tr>\n",
       "    <tr>\n",
       "      <td>SRH</td>\n",
       "      <td>76</td>\n",
       "      <td>42</td>\n",
       "    </tr>\n",
       "    <tr>\n",
       "      <td>DC</td>\n",
       "      <td>75</td>\n",
       "      <td>29</td>\n",
       "    </tr>\n",
       "    <tr>\n",
       "      <td>PW</td>\n",
       "      <td>46</td>\n",
       "      <td>15</td>\n",
       "    </tr>\n",
       "    <tr>\n",
       "      <td>GL</td>\n",
       "      <td>30</td>\n",
       "      <td>13</td>\n",
       "    </tr>\n",
       "    <tr>\n",
       "      <td>RPS</td>\n",
       "      <td>30</td>\n",
       "      <td>12</td>\n",
       "    </tr>\n",
       "    <tr>\n",
       "      <td>KTK</td>\n",
       "      <td>14</td>\n",
       "      <td>6</td>\n",
       "    </tr>\n",
       "  </tbody>\n",
       "</table>\n",
       "</div>"
      ],
      "text/plain": [
       "      Total Matches  wins\n",
       "Team                     \n",
       "MI              157    92\n",
       "RCB             152    79\n",
       "KXIP            148    77\n",
       "KKR             148    73\n",
       "DD              147    70\n",
       "CSK             131    63\n",
       "RR              118    62\n",
       "SRH              76    42\n",
       "DC               75    29\n",
       "PW               46    15\n",
       "GL               30    13\n",
       "RPS              30    12\n",
       "KTK              14     6"
      ]
     },
     "execution_count": 19,
     "metadata": {},
     "output_type": "execute_result"
    }
   ],
   "source": [
    "matches_played_byteams=pd.concat([matches['team1'],matches['team2']])\n",
    "matches_played_byteams=matches_played_byteams.value_counts().reset_index()\n",
    "matches_played_byteams.columns=['Team','Total Matches']\n",
    "matches_played_byteams['wins']=matches['winner'].value_counts().reset_index()['winner']\n",
    "matches_played_byteams.set_index('Team',inplace=True)\n",
    "matches_played_byteams"
   ]
  },
  {
   "cell_type": "code",
   "execution_count": 20,
   "metadata": {},
   "outputs": [
    {
     "data": {
      "application/vnd.plotly.v1+json": {
       "config": {
        "linkText": "Export to plot.ly",
        "plotlyServerURL": "https://plot.ly",
        "showLink": false
       },
       "data": [
        {
         "name": "Total Matches",
         "type": "bar",
         "x": [
          "MI",
          "RCB",
          "KXIP",
          "KKR",
          "DD",
          "CSK",
          "RR",
          "SRH",
          "DC",
          "PW",
          "GL",
          "RPS",
          "KTK"
         ],
         "y": [
          157,
          152,
          148,
          148,
          147,
          131,
          118,
          76,
          75,
          46,
          30,
          30,
          14
         ]
        },
        {
         "name": "Matches Won",
         "type": "bar",
         "x": [
          "MI",
          "RCB",
          "KXIP",
          "KKR",
          "DD",
          "CSK",
          "RR",
          "SRH",
          "DC",
          "PW",
          "GL",
          "RPS",
          "KTK"
         ],
         "y": [
          92,
          79,
          77,
          73,
          70,
          63,
          62,
          42,
          29,
          15,
          13,
          12,
          6
         ]
        }
       ],
       "layout": {
        "barmode": "stack",
        "template": {
         "data": {
          "bar": [
           {
            "error_x": {
             "color": "#2a3f5f"
            },
            "error_y": {
             "color": "#2a3f5f"
            },
            "marker": {
             "line": {
              "color": "#E5ECF6",
              "width": 0.5
             }
            },
            "type": "bar"
           }
          ],
          "barpolar": [
           {
            "marker": {
             "line": {
              "color": "#E5ECF6",
              "width": 0.5
             }
            },
            "type": "barpolar"
           }
          ],
          "carpet": [
           {
            "aaxis": {
             "endlinecolor": "#2a3f5f",
             "gridcolor": "white",
             "linecolor": "white",
             "minorgridcolor": "white",
             "startlinecolor": "#2a3f5f"
            },
            "baxis": {
             "endlinecolor": "#2a3f5f",
             "gridcolor": "white",
             "linecolor": "white",
             "minorgridcolor": "white",
             "startlinecolor": "#2a3f5f"
            },
            "type": "carpet"
           }
          ],
          "choropleth": [
           {
            "colorbar": {
             "outlinewidth": 0,
             "ticks": ""
            },
            "type": "choropleth"
           }
          ],
          "contour": [
           {
            "colorbar": {
             "outlinewidth": 0,
             "ticks": ""
            },
            "colorscale": [
             [
              0,
              "#0d0887"
             ],
             [
              0.1111111111111111,
              "#46039f"
             ],
             [
              0.2222222222222222,
              "#7201a8"
             ],
             [
              0.3333333333333333,
              "#9c179e"
             ],
             [
              0.4444444444444444,
              "#bd3786"
             ],
             [
              0.5555555555555556,
              "#d8576b"
             ],
             [
              0.6666666666666666,
              "#ed7953"
             ],
             [
              0.7777777777777778,
              "#fb9f3a"
             ],
             [
              0.8888888888888888,
              "#fdca26"
             ],
             [
              1,
              "#f0f921"
             ]
            ],
            "type": "contour"
           }
          ],
          "contourcarpet": [
           {
            "colorbar": {
             "outlinewidth": 0,
             "ticks": ""
            },
            "type": "contourcarpet"
           }
          ],
          "heatmap": [
           {
            "colorbar": {
             "outlinewidth": 0,
             "ticks": ""
            },
            "colorscale": [
             [
              0,
              "#0d0887"
             ],
             [
              0.1111111111111111,
              "#46039f"
             ],
             [
              0.2222222222222222,
              "#7201a8"
             ],
             [
              0.3333333333333333,
              "#9c179e"
             ],
             [
              0.4444444444444444,
              "#bd3786"
             ],
             [
              0.5555555555555556,
              "#d8576b"
             ],
             [
              0.6666666666666666,
              "#ed7953"
             ],
             [
              0.7777777777777778,
              "#fb9f3a"
             ],
             [
              0.8888888888888888,
              "#fdca26"
             ],
             [
              1,
              "#f0f921"
             ]
            ],
            "type": "heatmap"
           }
          ],
          "heatmapgl": [
           {
            "colorbar": {
             "outlinewidth": 0,
             "ticks": ""
            },
            "colorscale": [
             [
              0,
              "#0d0887"
             ],
             [
              0.1111111111111111,
              "#46039f"
             ],
             [
              0.2222222222222222,
              "#7201a8"
             ],
             [
              0.3333333333333333,
              "#9c179e"
             ],
             [
              0.4444444444444444,
              "#bd3786"
             ],
             [
              0.5555555555555556,
              "#d8576b"
             ],
             [
              0.6666666666666666,
              "#ed7953"
             ],
             [
              0.7777777777777778,
              "#fb9f3a"
             ],
             [
              0.8888888888888888,
              "#fdca26"
             ],
             [
              1,
              "#f0f921"
             ]
            ],
            "type": "heatmapgl"
           }
          ],
          "histogram": [
           {
            "marker": {
             "colorbar": {
              "outlinewidth": 0,
              "ticks": ""
             }
            },
            "type": "histogram"
           }
          ],
          "histogram2d": [
           {
            "colorbar": {
             "outlinewidth": 0,
             "ticks": ""
            },
            "colorscale": [
             [
              0,
              "#0d0887"
             ],
             [
              0.1111111111111111,
              "#46039f"
             ],
             [
              0.2222222222222222,
              "#7201a8"
             ],
             [
              0.3333333333333333,
              "#9c179e"
             ],
             [
              0.4444444444444444,
              "#bd3786"
             ],
             [
              0.5555555555555556,
              "#d8576b"
             ],
             [
              0.6666666666666666,
              "#ed7953"
             ],
             [
              0.7777777777777778,
              "#fb9f3a"
             ],
             [
              0.8888888888888888,
              "#fdca26"
             ],
             [
              1,
              "#f0f921"
             ]
            ],
            "type": "histogram2d"
           }
          ],
          "histogram2dcontour": [
           {
            "colorbar": {
             "outlinewidth": 0,
             "ticks": ""
            },
            "colorscale": [
             [
              0,
              "#0d0887"
             ],
             [
              0.1111111111111111,
              "#46039f"
             ],
             [
              0.2222222222222222,
              "#7201a8"
             ],
             [
              0.3333333333333333,
              "#9c179e"
             ],
             [
              0.4444444444444444,
              "#bd3786"
             ],
             [
              0.5555555555555556,
              "#d8576b"
             ],
             [
              0.6666666666666666,
              "#ed7953"
             ],
             [
              0.7777777777777778,
              "#fb9f3a"
             ],
             [
              0.8888888888888888,
              "#fdca26"
             ],
             [
              1,
              "#f0f921"
             ]
            ],
            "type": "histogram2dcontour"
           }
          ],
          "mesh3d": [
           {
            "colorbar": {
             "outlinewidth": 0,
             "ticks": ""
            },
            "type": "mesh3d"
           }
          ],
          "parcoords": [
           {
            "line": {
             "colorbar": {
              "outlinewidth": 0,
              "ticks": ""
             }
            },
            "type": "parcoords"
           }
          ],
          "pie": [
           {
            "automargin": true,
            "type": "pie"
           }
          ],
          "scatter": [
           {
            "marker": {
             "colorbar": {
              "outlinewidth": 0,
              "ticks": ""
             }
            },
            "type": "scatter"
           }
          ],
          "scatter3d": [
           {
            "line": {
             "colorbar": {
              "outlinewidth": 0,
              "ticks": ""
             }
            },
            "marker": {
             "colorbar": {
              "outlinewidth": 0,
              "ticks": ""
             }
            },
            "type": "scatter3d"
           }
          ],
          "scattercarpet": [
           {
            "marker": {
             "colorbar": {
              "outlinewidth": 0,
              "ticks": ""
             }
            },
            "type": "scattercarpet"
           }
          ],
          "scattergeo": [
           {
            "marker": {
             "colorbar": {
              "outlinewidth": 0,
              "ticks": ""
             }
            },
            "type": "scattergeo"
           }
          ],
          "scattergl": [
           {
            "marker": {
             "colorbar": {
              "outlinewidth": 0,
              "ticks": ""
             }
            },
            "type": "scattergl"
           }
          ],
          "scattermapbox": [
           {
            "marker": {
             "colorbar": {
              "outlinewidth": 0,
              "ticks": ""
             }
            },
            "type": "scattermapbox"
           }
          ],
          "scatterpolar": [
           {
            "marker": {
             "colorbar": {
              "outlinewidth": 0,
              "ticks": ""
             }
            },
            "type": "scatterpolar"
           }
          ],
          "scatterpolargl": [
           {
            "marker": {
             "colorbar": {
              "outlinewidth": 0,
              "ticks": ""
             }
            },
            "type": "scatterpolargl"
           }
          ],
          "scatterternary": [
           {
            "marker": {
             "colorbar": {
              "outlinewidth": 0,
              "ticks": ""
             }
            },
            "type": "scatterternary"
           }
          ],
          "surface": [
           {
            "colorbar": {
             "outlinewidth": 0,
             "ticks": ""
            },
            "colorscale": [
             [
              0,
              "#0d0887"
             ],
             [
              0.1111111111111111,
              "#46039f"
             ],
             [
              0.2222222222222222,
              "#7201a8"
             ],
             [
              0.3333333333333333,
              "#9c179e"
             ],
             [
              0.4444444444444444,
              "#bd3786"
             ],
             [
              0.5555555555555556,
              "#d8576b"
             ],
             [
              0.6666666666666666,
              "#ed7953"
             ],
             [
              0.7777777777777778,
              "#fb9f3a"
             ],
             [
              0.8888888888888888,
              "#fdca26"
             ],
             [
              1,
              "#f0f921"
             ]
            ],
            "type": "surface"
           }
          ],
          "table": [
           {
            "cells": {
             "fill": {
              "color": "#EBF0F8"
             },
             "line": {
              "color": "white"
             }
            },
            "header": {
             "fill": {
              "color": "#C8D4E3"
             },
             "line": {
              "color": "white"
             }
            },
            "type": "table"
           }
          ]
         },
         "layout": {
          "annotationdefaults": {
           "arrowcolor": "#2a3f5f",
           "arrowhead": 0,
           "arrowwidth": 1
          },
          "coloraxis": {
           "colorbar": {
            "outlinewidth": 0,
            "ticks": ""
           }
          },
          "colorscale": {
           "diverging": [
            [
             0,
             "#8e0152"
            ],
            [
             0.1,
             "#c51b7d"
            ],
            [
             0.2,
             "#de77ae"
            ],
            [
             0.3,
             "#f1b6da"
            ],
            [
             0.4,
             "#fde0ef"
            ],
            [
             0.5,
             "#f7f7f7"
            ],
            [
             0.6,
             "#e6f5d0"
            ],
            [
             0.7,
             "#b8e186"
            ],
            [
             0.8,
             "#7fbc41"
            ],
            [
             0.9,
             "#4d9221"
            ],
            [
             1,
             "#276419"
            ]
           ],
           "sequential": [
            [
             0,
             "#0d0887"
            ],
            [
             0.1111111111111111,
             "#46039f"
            ],
            [
             0.2222222222222222,
             "#7201a8"
            ],
            [
             0.3333333333333333,
             "#9c179e"
            ],
            [
             0.4444444444444444,
             "#bd3786"
            ],
            [
             0.5555555555555556,
             "#d8576b"
            ],
            [
             0.6666666666666666,
             "#ed7953"
            ],
            [
             0.7777777777777778,
             "#fb9f3a"
            ],
            [
             0.8888888888888888,
             "#fdca26"
            ],
            [
             1,
             "#f0f921"
            ]
           ],
           "sequentialminus": [
            [
             0,
             "#0d0887"
            ],
            [
             0.1111111111111111,
             "#46039f"
            ],
            [
             0.2222222222222222,
             "#7201a8"
            ],
            [
             0.3333333333333333,
             "#9c179e"
            ],
            [
             0.4444444444444444,
             "#bd3786"
            ],
            [
             0.5555555555555556,
             "#d8576b"
            ],
            [
             0.6666666666666666,
             "#ed7953"
            ],
            [
             0.7777777777777778,
             "#fb9f3a"
            ],
            [
             0.8888888888888888,
             "#fdca26"
            ],
            [
             1,
             "#f0f921"
            ]
           ]
          },
          "colorway": [
           "#636efa",
           "#EF553B",
           "#00cc96",
           "#ab63fa",
           "#FFA15A",
           "#19d3f3",
           "#FF6692",
           "#B6E880",
           "#FF97FF",
           "#FECB52"
          ],
          "font": {
           "color": "#2a3f5f"
          },
          "geo": {
           "bgcolor": "white",
           "lakecolor": "white",
           "landcolor": "#E5ECF6",
           "showlakes": true,
           "showland": true,
           "subunitcolor": "white"
          },
          "hoverlabel": {
           "align": "left"
          },
          "hovermode": "closest",
          "mapbox": {
           "style": "light"
          },
          "paper_bgcolor": "white",
          "plot_bgcolor": "#E5ECF6",
          "polar": {
           "angularaxis": {
            "gridcolor": "white",
            "linecolor": "white",
            "ticks": ""
           },
           "bgcolor": "#E5ECF6",
           "radialaxis": {
            "gridcolor": "white",
            "linecolor": "white",
            "ticks": ""
           }
          },
          "scene": {
           "xaxis": {
            "backgroundcolor": "#E5ECF6",
            "gridcolor": "white",
            "gridwidth": 2,
            "linecolor": "white",
            "showbackground": true,
            "ticks": "",
            "zerolinecolor": "white"
           },
           "yaxis": {
            "backgroundcolor": "#E5ECF6",
            "gridcolor": "white",
            "gridwidth": 2,
            "linecolor": "white",
            "showbackground": true,
            "ticks": "",
            "zerolinecolor": "white"
           },
           "zaxis": {
            "backgroundcolor": "#E5ECF6",
            "gridcolor": "white",
            "gridwidth": 2,
            "linecolor": "white",
            "showbackground": true,
            "ticks": "",
            "zerolinecolor": "white"
           }
          },
          "shapedefaults": {
           "line": {
            "color": "#2a3f5f"
           }
          },
          "ternary": {
           "aaxis": {
            "gridcolor": "white",
            "linecolor": "white",
            "ticks": ""
           },
           "baxis": {
            "gridcolor": "white",
            "linecolor": "white",
            "ticks": ""
           },
           "bgcolor": "#E5ECF6",
           "caxis": {
            "gridcolor": "white",
            "linecolor": "white",
            "ticks": ""
           }
          },
          "title": {
           "x": 0.05
          },
          "xaxis": {
           "automargin": true,
           "gridcolor": "white",
           "linecolor": "white",
           "ticks": "",
           "title": {
            "standoff": 15
           },
           "zerolinecolor": "white",
           "zerolinewidth": 2
          },
          "yaxis": {
           "automargin": true,
           "gridcolor": "white",
           "linecolor": "white",
           "ticks": "",
           "title": {
            "standoff": 15
           },
           "zerolinecolor": "white",
           "zerolinewidth": 2
          }
         }
        }
       }
      },
      "text/html": [
       "<div>\n",
       "        \n",
       "        \n",
       "            <div id=\"f7be5518-d1cf-4361-8fb3-6ac4f7e3847b\" class=\"plotly-graph-div\" style=\"height:525px; width:100%;\"></div>\n",
       "            <script type=\"text/javascript\">\n",
       "                require([\"plotly\"], function(Plotly) {\n",
       "                    window.PLOTLYENV=window.PLOTLYENV || {};\n",
       "                    \n",
       "                if (document.getElementById(\"f7be5518-d1cf-4361-8fb3-6ac4f7e3847b\")) {\n",
       "                    Plotly.newPlot(\n",
       "                        'f7be5518-d1cf-4361-8fb3-6ac4f7e3847b',\n",
       "                        [{\"name\": \"Total Matches\", \"type\": \"bar\", \"x\": [\"MI\", \"RCB\", \"KXIP\", \"KKR\", \"DD\", \"CSK\", \"RR\", \"SRH\", \"DC\", \"PW\", \"GL\", \"RPS\", \"KTK\"], \"y\": [157, 152, 148, 148, 147, 131, 118, 76, 75, 46, 30, 30, 14]}, {\"name\": \"Matches Won\", \"type\": \"bar\", \"x\": [\"MI\", \"RCB\", \"KXIP\", \"KKR\", \"DD\", \"CSK\", \"RR\", \"SRH\", \"DC\", \"PW\", \"GL\", \"RPS\", \"KTK\"], \"y\": [92, 79, 77, 73, 70, 63, 62, 42, 29, 15, 13, 12, 6]}],\n",
       "                        {\"barmode\": \"stack\", \"template\": {\"data\": {\"bar\": [{\"error_x\": {\"color\": \"#2a3f5f\"}, \"error_y\": {\"color\": \"#2a3f5f\"}, \"marker\": {\"line\": {\"color\": \"#E5ECF6\", \"width\": 0.5}}, \"type\": \"bar\"}], \"barpolar\": [{\"marker\": {\"line\": {\"color\": \"#E5ECF6\", \"width\": 0.5}}, \"type\": \"barpolar\"}], \"carpet\": [{\"aaxis\": {\"endlinecolor\": \"#2a3f5f\", \"gridcolor\": \"white\", \"linecolor\": \"white\", \"minorgridcolor\": \"white\", \"startlinecolor\": \"#2a3f5f\"}, \"baxis\": {\"endlinecolor\": \"#2a3f5f\", \"gridcolor\": \"white\", \"linecolor\": \"white\", \"minorgridcolor\": \"white\", \"startlinecolor\": \"#2a3f5f\"}, \"type\": \"carpet\"}], \"choropleth\": [{\"colorbar\": {\"outlinewidth\": 0, \"ticks\": \"\"}, \"type\": \"choropleth\"}], \"contour\": [{\"colorbar\": {\"outlinewidth\": 0, \"ticks\": \"\"}, \"colorscale\": [[0.0, \"#0d0887\"], [0.1111111111111111, \"#46039f\"], [0.2222222222222222, \"#7201a8\"], [0.3333333333333333, \"#9c179e\"], [0.4444444444444444, \"#bd3786\"], [0.5555555555555556, \"#d8576b\"], [0.6666666666666666, \"#ed7953\"], [0.7777777777777778, \"#fb9f3a\"], [0.8888888888888888, \"#fdca26\"], [1.0, \"#f0f921\"]], \"type\": \"contour\"}], \"contourcarpet\": [{\"colorbar\": {\"outlinewidth\": 0, \"ticks\": \"\"}, \"type\": \"contourcarpet\"}], \"heatmap\": [{\"colorbar\": {\"outlinewidth\": 0, \"ticks\": \"\"}, \"colorscale\": [[0.0, \"#0d0887\"], [0.1111111111111111, \"#46039f\"], [0.2222222222222222, \"#7201a8\"], [0.3333333333333333, \"#9c179e\"], [0.4444444444444444, \"#bd3786\"], [0.5555555555555556, \"#d8576b\"], [0.6666666666666666, \"#ed7953\"], [0.7777777777777778, \"#fb9f3a\"], [0.8888888888888888, \"#fdca26\"], [1.0, \"#f0f921\"]], \"type\": \"heatmap\"}], \"heatmapgl\": [{\"colorbar\": {\"outlinewidth\": 0, \"ticks\": \"\"}, \"colorscale\": [[0.0, \"#0d0887\"], [0.1111111111111111, \"#46039f\"], [0.2222222222222222, \"#7201a8\"], [0.3333333333333333, \"#9c179e\"], [0.4444444444444444, \"#bd3786\"], [0.5555555555555556, \"#d8576b\"], [0.6666666666666666, \"#ed7953\"], [0.7777777777777778, \"#fb9f3a\"], [0.8888888888888888, \"#fdca26\"], [1.0, \"#f0f921\"]], \"type\": \"heatmapgl\"}], \"histogram\": [{\"marker\": {\"colorbar\": {\"outlinewidth\": 0, \"ticks\": \"\"}}, \"type\": \"histogram\"}], \"histogram2d\": [{\"colorbar\": {\"outlinewidth\": 0, \"ticks\": \"\"}, \"colorscale\": [[0.0, \"#0d0887\"], [0.1111111111111111, \"#46039f\"], [0.2222222222222222, \"#7201a8\"], [0.3333333333333333, \"#9c179e\"], [0.4444444444444444, \"#bd3786\"], [0.5555555555555556, \"#d8576b\"], [0.6666666666666666, \"#ed7953\"], [0.7777777777777778, \"#fb9f3a\"], [0.8888888888888888, \"#fdca26\"], [1.0, \"#f0f921\"]], \"type\": \"histogram2d\"}], \"histogram2dcontour\": [{\"colorbar\": {\"outlinewidth\": 0, \"ticks\": \"\"}, \"colorscale\": [[0.0, \"#0d0887\"], [0.1111111111111111, \"#46039f\"], [0.2222222222222222, \"#7201a8\"], [0.3333333333333333, \"#9c179e\"], [0.4444444444444444, \"#bd3786\"], [0.5555555555555556, \"#d8576b\"], [0.6666666666666666, \"#ed7953\"], [0.7777777777777778, \"#fb9f3a\"], [0.8888888888888888, \"#fdca26\"], [1.0, \"#f0f921\"]], \"type\": \"histogram2dcontour\"}], \"mesh3d\": [{\"colorbar\": {\"outlinewidth\": 0, \"ticks\": \"\"}, \"type\": \"mesh3d\"}], \"parcoords\": [{\"line\": {\"colorbar\": {\"outlinewidth\": 0, \"ticks\": \"\"}}, \"type\": \"parcoords\"}], \"pie\": [{\"automargin\": true, \"type\": \"pie\"}], \"scatter\": [{\"marker\": {\"colorbar\": {\"outlinewidth\": 0, \"ticks\": \"\"}}, \"type\": \"scatter\"}], \"scatter3d\": [{\"line\": {\"colorbar\": {\"outlinewidth\": 0, \"ticks\": \"\"}}, \"marker\": {\"colorbar\": {\"outlinewidth\": 0, \"ticks\": \"\"}}, \"type\": \"scatter3d\"}], \"scattercarpet\": [{\"marker\": {\"colorbar\": {\"outlinewidth\": 0, \"ticks\": \"\"}}, \"type\": \"scattercarpet\"}], \"scattergeo\": [{\"marker\": {\"colorbar\": {\"outlinewidth\": 0, \"ticks\": \"\"}}, \"type\": \"scattergeo\"}], \"scattergl\": [{\"marker\": {\"colorbar\": {\"outlinewidth\": 0, \"ticks\": \"\"}}, \"type\": \"scattergl\"}], \"scattermapbox\": [{\"marker\": {\"colorbar\": {\"outlinewidth\": 0, \"ticks\": \"\"}}, \"type\": \"scattermapbox\"}], \"scatterpolar\": [{\"marker\": {\"colorbar\": {\"outlinewidth\": 0, \"ticks\": \"\"}}, \"type\": \"scatterpolar\"}], \"scatterpolargl\": [{\"marker\": {\"colorbar\": {\"outlinewidth\": 0, \"ticks\": \"\"}}, \"type\": \"scatterpolargl\"}], \"scatterternary\": [{\"marker\": {\"colorbar\": {\"outlinewidth\": 0, \"ticks\": \"\"}}, \"type\": \"scatterternary\"}], \"surface\": [{\"colorbar\": {\"outlinewidth\": 0, \"ticks\": \"\"}, \"colorscale\": [[0.0, \"#0d0887\"], [0.1111111111111111, \"#46039f\"], [0.2222222222222222, \"#7201a8\"], [0.3333333333333333, \"#9c179e\"], [0.4444444444444444, \"#bd3786\"], [0.5555555555555556, \"#d8576b\"], [0.6666666666666666, \"#ed7953\"], [0.7777777777777778, \"#fb9f3a\"], [0.8888888888888888, \"#fdca26\"], [1.0, \"#f0f921\"]], \"type\": \"surface\"}], \"table\": [{\"cells\": {\"fill\": {\"color\": \"#EBF0F8\"}, \"line\": {\"color\": \"white\"}}, \"header\": {\"fill\": {\"color\": \"#C8D4E3\"}, \"line\": {\"color\": \"white\"}}, \"type\": \"table\"}]}, \"layout\": {\"annotationdefaults\": {\"arrowcolor\": \"#2a3f5f\", \"arrowhead\": 0, \"arrowwidth\": 1}, \"coloraxis\": {\"colorbar\": {\"outlinewidth\": 0, \"ticks\": \"\"}}, \"colorscale\": {\"diverging\": [[0, \"#8e0152\"], [0.1, \"#c51b7d\"], [0.2, \"#de77ae\"], [0.3, \"#f1b6da\"], [0.4, \"#fde0ef\"], [0.5, \"#f7f7f7\"], [0.6, \"#e6f5d0\"], [0.7, \"#b8e186\"], [0.8, \"#7fbc41\"], [0.9, \"#4d9221\"], [1, \"#276419\"]], \"sequential\": [[0.0, \"#0d0887\"], [0.1111111111111111, \"#46039f\"], [0.2222222222222222, \"#7201a8\"], [0.3333333333333333, \"#9c179e\"], [0.4444444444444444, \"#bd3786\"], [0.5555555555555556, \"#d8576b\"], [0.6666666666666666, \"#ed7953\"], [0.7777777777777778, \"#fb9f3a\"], [0.8888888888888888, \"#fdca26\"], [1.0, \"#f0f921\"]], \"sequentialminus\": [[0.0, \"#0d0887\"], [0.1111111111111111, \"#46039f\"], [0.2222222222222222, \"#7201a8\"], [0.3333333333333333, \"#9c179e\"], [0.4444444444444444, \"#bd3786\"], [0.5555555555555556, \"#d8576b\"], [0.6666666666666666, \"#ed7953\"], [0.7777777777777778, \"#fb9f3a\"], [0.8888888888888888, \"#fdca26\"], [1.0, \"#f0f921\"]]}, \"colorway\": [\"#636efa\", \"#EF553B\", \"#00cc96\", \"#ab63fa\", \"#FFA15A\", \"#19d3f3\", \"#FF6692\", \"#B6E880\", \"#FF97FF\", \"#FECB52\"], \"font\": {\"color\": \"#2a3f5f\"}, \"geo\": {\"bgcolor\": \"white\", \"lakecolor\": \"white\", \"landcolor\": \"#E5ECF6\", \"showlakes\": true, \"showland\": true, \"subunitcolor\": \"white\"}, \"hoverlabel\": {\"align\": \"left\"}, \"hovermode\": \"closest\", \"mapbox\": {\"style\": \"light\"}, \"paper_bgcolor\": \"white\", \"plot_bgcolor\": \"#E5ECF6\", \"polar\": {\"angularaxis\": {\"gridcolor\": \"white\", \"linecolor\": \"white\", \"ticks\": \"\"}, \"bgcolor\": \"#E5ECF6\", \"radialaxis\": {\"gridcolor\": \"white\", \"linecolor\": \"white\", \"ticks\": \"\"}}, \"scene\": {\"xaxis\": {\"backgroundcolor\": \"#E5ECF6\", \"gridcolor\": \"white\", \"gridwidth\": 2, \"linecolor\": \"white\", \"showbackground\": true, \"ticks\": \"\", \"zerolinecolor\": \"white\"}, \"yaxis\": {\"backgroundcolor\": \"#E5ECF6\", \"gridcolor\": \"white\", \"gridwidth\": 2, \"linecolor\": \"white\", \"showbackground\": true, \"ticks\": \"\", \"zerolinecolor\": \"white\"}, \"zaxis\": {\"backgroundcolor\": \"#E5ECF6\", \"gridcolor\": \"white\", \"gridwidth\": 2, \"linecolor\": \"white\", \"showbackground\": true, \"ticks\": \"\", \"zerolinecolor\": \"white\"}}, \"shapedefaults\": {\"line\": {\"color\": \"#2a3f5f\"}}, \"ternary\": {\"aaxis\": {\"gridcolor\": \"white\", \"linecolor\": \"white\", \"ticks\": \"\"}, \"baxis\": {\"gridcolor\": \"white\", \"linecolor\": \"white\", \"ticks\": \"\"}, \"bgcolor\": \"#E5ECF6\", \"caxis\": {\"gridcolor\": \"white\", \"linecolor\": \"white\", \"ticks\": \"\"}}, \"title\": {\"x\": 0.05}, \"xaxis\": {\"automargin\": true, \"gridcolor\": \"white\", \"linecolor\": \"white\", \"ticks\": \"\", \"title\": {\"standoff\": 15}, \"zerolinecolor\": \"white\", \"zerolinewidth\": 2}, \"yaxis\": {\"automargin\": true, \"gridcolor\": \"white\", \"linecolor\": \"white\", \"ticks\": \"\", \"title\": {\"standoff\": 15}, \"zerolinecolor\": \"white\", \"zerolinewidth\": 2}}}},\n",
       "                        {\"responsive\": true}\n",
       "                    ).then(function(){\n",
       "                            \n",
       "var gd = document.getElementById('f7be5518-d1cf-4361-8fb3-6ac4f7e3847b');\n",
       "var x = new MutationObserver(function (mutations, observer) {{\n",
       "        var display = window.getComputedStyle(gd).display;\n",
       "        if (!display || display === 'none') {{\n",
       "            console.log([gd, 'removed!']);\n",
       "            Plotly.purge(gd);\n",
       "            observer.disconnect();\n",
       "        }}\n",
       "}});\n",
       "\n",
       "// Listen for the removal of the full notebook cells\n",
       "var notebookContainer = gd.closest('#notebook-container');\n",
       "if (notebookContainer) {{\n",
       "    x.observe(notebookContainer, {childList: true});\n",
       "}}\n",
       "\n",
       "// Listen for the clearing of the current output cell\n",
       "var outputEl = gd.closest('.output');\n",
       "if (outputEl) {{\n",
       "    x.observe(outputEl, {childList: true});\n",
       "}}\n",
       "\n",
       "                        })\n",
       "                };\n",
       "                });\n",
       "            </script>\n",
       "        </div>"
      ]
     },
     "metadata": {},
     "output_type": "display_data"
    }
   ],
   "source": [
    "trace1 = go.Bar(\n",
    "    x=matches_played_byteams.index,\n",
    "    y=matches_played_byteams['Total Matches'],\n",
    "    name='Total Matches'\n",
    ")\n",
    "trace2 = go.Bar(\n",
    "    x=matches_played_byteams.index,\n",
    "    y=matches_played_byteams['wins'],\n",
    "    name='Matches Won'\n",
    ")\n",
    "\n",
    "data = [trace1, trace2]\n",
    "layout = go.Layout(\n",
    "    barmode='stack'\n",
    ")\n",
    "\n",
    "fig = go.Figure(data=data, layout=layout)\n",
    "py.iplot(fig, filename='stacked-bar')"
   ]
  },
  {
   "cell_type": "code",
   "execution_count": 29,
   "metadata": {},
   "outputs": [
    {
     "data": {
      "text/html": [
       "<div>\n",
       "<style scoped>\n",
       "    .dataframe tbody tr th:only-of-type {\n",
       "        vertical-align: middle;\n",
       "    }\n",
       "\n",
       "    .dataframe tbody tr th {\n",
       "        vertical-align: top;\n",
       "    }\n",
       "\n",
       "    .dataframe thead th {\n",
       "        text-align: right;\n",
       "    }\n",
       "</style>\n",
       "<table border=\"1\" class=\"dataframe\">\n",
       "  <thead>\n",
       "    <tr style=\"text-align: right;\">\n",
       "      <th></th>\n",
       "      <th>Total Matches</th>\n",
       "      <th>wins</th>\n",
       "      <th>Win %</th>\n",
       "    </tr>\n",
       "    <tr>\n",
       "      <th>Team</th>\n",
       "      <th></th>\n",
       "      <th></th>\n",
       "      <th></th>\n",
       "    </tr>\n",
       "  </thead>\n",
       "  <tbody>\n",
       "    <tr>\n",
       "      <td>MI</td>\n",
       "      <td>157</td>\n",
       "      <td>92</td>\n",
       "      <td>0.585987</td>\n",
       "    </tr>\n",
       "    <tr>\n",
       "      <td>RCB</td>\n",
       "      <td>152</td>\n",
       "      <td>79</td>\n",
       "      <td>0.519737</td>\n",
       "    </tr>\n",
       "    <tr>\n",
       "      <td>KXIP</td>\n",
       "      <td>148</td>\n",
       "      <td>77</td>\n",
       "      <td>0.520270</td>\n",
       "    </tr>\n",
       "    <tr>\n",
       "      <td>KKR</td>\n",
       "      <td>148</td>\n",
       "      <td>73</td>\n",
       "      <td>0.493243</td>\n",
       "    </tr>\n",
       "    <tr>\n",
       "      <td>DD</td>\n",
       "      <td>147</td>\n",
       "      <td>70</td>\n",
       "      <td>0.476190</td>\n",
       "    </tr>\n",
       "    <tr>\n",
       "      <td>CSK</td>\n",
       "      <td>131</td>\n",
       "      <td>63</td>\n",
       "      <td>0.480916</td>\n",
       "    </tr>\n",
       "    <tr>\n",
       "      <td>RR</td>\n",
       "      <td>118</td>\n",
       "      <td>62</td>\n",
       "      <td>0.525424</td>\n",
       "    </tr>\n",
       "    <tr>\n",
       "      <td>SRH</td>\n",
       "      <td>76</td>\n",
       "      <td>42</td>\n",
       "      <td>0.552632</td>\n",
       "    </tr>\n",
       "    <tr>\n",
       "      <td>DC</td>\n",
       "      <td>75</td>\n",
       "      <td>29</td>\n",
       "      <td>0.386667</td>\n",
       "    </tr>\n",
       "    <tr>\n",
       "      <td>PW</td>\n",
       "      <td>46</td>\n",
       "      <td>15</td>\n",
       "      <td>0.326087</td>\n",
       "    </tr>\n",
       "    <tr>\n",
       "      <td>GL</td>\n",
       "      <td>30</td>\n",
       "      <td>13</td>\n",
       "      <td>0.433333</td>\n",
       "    </tr>\n",
       "    <tr>\n",
       "      <td>RPS</td>\n",
       "      <td>30</td>\n",
       "      <td>12</td>\n",
       "      <td>0.400000</td>\n",
       "    </tr>\n",
       "    <tr>\n",
       "      <td>KTK</td>\n",
       "      <td>14</td>\n",
       "      <td>6</td>\n",
       "      <td>0.428571</td>\n",
       "    </tr>\n",
       "  </tbody>\n",
       "</table>\n",
       "</div>"
      ],
      "text/plain": [
       "      Total Matches  wins     Win %\n",
       "Team                               \n",
       "MI              157    92  0.585987\n",
       "RCB             152    79  0.519737\n",
       "KXIP            148    77  0.520270\n",
       "KKR             148    73  0.493243\n",
       "DD              147    70  0.476190\n",
       "CSK             131    63  0.480916\n",
       "RR              118    62  0.525424\n",
       "SRH              76    42  0.552632\n",
       "DC               75    29  0.386667\n",
       "PW               46    15  0.326087\n",
       "GL               30    13  0.433333\n",
       "RPS              30    12  0.400000\n",
       "KTK              14     6  0.428571"
      ]
     },
     "execution_count": 29,
     "metadata": {},
     "output_type": "execute_result"
    }
   ],
   "source": [
    "matches_played_byteams['Win %']=matches_played_byteams['wins']/matches_played_byteams['Total Matches']\n",
    "matches_played_byteams"
   ]
  },
  {
   "cell_type": "code",
   "execution_count": 48,
   "metadata": {},
   "outputs": [
    {
     "data": {
      "image/png": "[encoded data removed]",
      "text/plain": [
       "<Figure size 432x432 with 1 Axes>"
      ]
     },
     "metadata": {},
     "output_type": "display_data"
    }
   ],
   "source": [
    "df=matches[matches['toss_winner']==matches['winner']]\n",
    "slices=[len(df),(633-len(df))]\n",
    "labels=['yes','no']\n",
    "mlt.pie(slices,labels=labels,startangle=90,shadow=True,explode=(0,0.05),autopct='%1.1f%%',colors=['r','g'])\n",
    "fig = mlt.gcf()\n",
    "fig.set_size_inches(6,6)\n",
    "mlt.show()"
   ]
  },
  {
   "cell_type": "code",
   "execution_count": 49,
   "metadata": {},
   "outputs": [
    {
     "data": {
      "image/png": "[encoded data removed]",
      "text/plain": [
       "<Figure size 720x432 with 1 Axes>"
      ]
     },
     "metadata": {
      "needs_background": "light"
     },
     "output_type": "display_data"
    }
   ],
   "source": [
    "mlt.subplots(figsize=(10,6))\n",
    "sns.countplot(x='season',data=matches,palette=sns.color_palette('winter'))  #countplot automatically counts the frequency of an item\n",
    "mlt.show()"
   ]
  },
  {
   "cell_type": "code",
   "execution_count": 50,
   "metadata": {},
   "outputs": [
    {
     "data": {
      "text/html": [
       "<div>\n",
       "<style scoped>\n",
       "    .dataframe tbody tr th:only-of-type {\n",
       "        vertical-align: middle;\n",
       "    }\n",
       "\n",
       "    .dataframe tbody tr th {\n",
       "        vertical-align: top;\n",
       "    }\n",
       "\n",
       "    .dataframe thead th {\n",
       "        text-align: right;\n",
       "    }\n",
       "</style>\n",
       "<table border=\"1\" class=\"dataframe\">\n",
       "  <thead>\n",
       "    <tr style=\"text-align: right;\">\n",
       "      <th></th>\n",
       "      <th>id</th>\n",
       "      <th>season</th>\n",
       "      <th>city</th>\n",
       "      <th>date</th>\n",
       "      <th>team1</th>\n",
       "      <th>team2</th>\n",
       "      <th>toss_winner</th>\n",
       "      <th>toss_decision</th>\n",
       "      <th>result</th>\n",
       "      <th>dl_applied</th>\n",
       "      <th>winner</th>\n",
       "      <th>win_by_runs</th>\n",
       "      <th>win_by_wickets</th>\n",
       "      <th>player_of_match</th>\n",
       "      <th>venue</th>\n",
       "      <th>umpire1</th>\n",
       "      <th>umpire2</th>\n",
       "    </tr>\n",
       "  </thead>\n",
       "  <tbody>\n",
       "    <tr>\n",
       "      <td>0</td>\n",
       "      <td>1</td>\n",
       "      <td>2017</td>\n",
       "      <td>Hyderabad</td>\n",
       "      <td>2017-04-05</td>\n",
       "      <td>SRH</td>\n",
       "      <td>RCB</td>\n",
       "      <td>RCB</td>\n",
       "      <td>field</td>\n",
       "      <td>normal</td>\n",
       "      <td>0</td>\n",
       "      <td>SRH</td>\n",
       "      <td>35</td>\n",
       "      <td>0</td>\n",
       "      <td>Yuvraj Singh</td>\n",
       "      <td>Rajiv Gandhi International Stadium, Uppal</td>\n",
       "      <td>AY Dandekar</td>\n",
       "      <td>NJ Llong</td>\n",
       "    </tr>\n",
       "    <tr>\n",
       "      <td>1</td>\n",
       "      <td>2</td>\n",
       "      <td>2017</td>\n",
       "      <td>Pune</td>\n",
       "      <td>2017-04-06</td>\n",
       "      <td>MI</td>\n",
       "      <td>RPS</td>\n",
       "      <td>RPS</td>\n",
       "      <td>field</td>\n",
       "      <td>normal</td>\n",
       "      <td>0</td>\n",
       "      <td>RPS</td>\n",
       "      <td>0</td>\n",
       "      <td>7</td>\n",
       "      <td>SPD Smith</td>\n",
       "      <td>Maharashtra Cricket Association Stadium</td>\n",
       "      <td>A Nand Kishore</td>\n",
       "      <td>S Ravi</td>\n",
       "    </tr>\n",
       "    <tr>\n",
       "      <td>2</td>\n",
       "      <td>3</td>\n",
       "      <td>2017</td>\n",
       "      <td>Rajkot</td>\n",
       "      <td>2017-04-07</td>\n",
       "      <td>GL</td>\n",
       "      <td>KKR</td>\n",
       "      <td>KKR</td>\n",
       "      <td>field</td>\n",
       "      <td>normal</td>\n",
       "      <td>0</td>\n",
       "      <td>KKR</td>\n",
       "      <td>0</td>\n",
       "      <td>10</td>\n",
       "      <td>CA Lynn</td>\n",
       "      <td>Saurashtra Cricket Association Stadium</td>\n",
       "      <td>Nitin Menon</td>\n",
       "      <td>CK Nandan</td>\n",
       "    </tr>\n",
       "    <tr>\n",
       "      <td>3</td>\n",
       "      <td>4</td>\n",
       "      <td>2017</td>\n",
       "      <td>Indore</td>\n",
       "      <td>2017-04-08</td>\n",
       "      <td>RPS</td>\n",
       "      <td>KXIP</td>\n",
       "      <td>KXIP</td>\n",
       "      <td>field</td>\n",
       "      <td>normal</td>\n",
       "      <td>0</td>\n",
       "      <td>KXIP</td>\n",
       "      <td>0</td>\n",
       "      <td>6</td>\n",
       "      <td>GJ Maxwell</td>\n",
       "      <td>Holkar Cricket Stadium</td>\n",
       "      <td>AK Chaudhary</td>\n",
       "      <td>C Shamshuddin</td>\n",
       "    </tr>\n",
       "    <tr>\n",
       "      <td>4</td>\n",
       "      <td>5</td>\n",
       "      <td>2017</td>\n",
       "      <td>Bangalore</td>\n",
       "      <td>2017-04-08</td>\n",
       "      <td>RCB</td>\n",
       "      <td>DD</td>\n",
       "      <td>RCB</td>\n",
       "      <td>bat</td>\n",
       "      <td>normal</td>\n",
       "      <td>0</td>\n",
       "      <td>RCB</td>\n",
       "      <td>15</td>\n",
       "      <td>0</td>\n",
       "      <td>KM Jadhav</td>\n",
       "      <td>M Chinnaswamy Stadium</td>\n",
       "      <td>NaN</td>\n",
       "      <td>NaN</td>\n",
       "    </tr>\n",
       "  </tbody>\n",
       "</table>\n",
       "</div>"
      ],
      "text/plain": [
       "   id  season       city        date team1 team2 toss_winner toss_decision  \\\n",
       "0   1    2017  Hyderabad  2017-04-05   SRH   RCB         RCB         field   \n",
       "1   2    2017       Pune  2017-04-06    MI   RPS         RPS         field   \n",
       "2   3    2017     Rajkot  2017-04-07    GL   KKR         KKR         field   \n",
       "3   4    2017     Indore  2017-04-08   RPS  KXIP        KXIP         field   \n",
       "4   5    2017  Bangalore  2017-04-08   RCB    DD         RCB           bat   \n",
       "\n",
       "   result  dl_applied winner  win_by_runs  win_by_wickets player_of_match  \\\n",
       "0  normal           0    SRH           35               0    Yuvraj Singh   \n",
       "1  normal           0    RPS            0               7       SPD Smith   \n",
       "2  normal           0    KKR            0              10         CA Lynn   \n",
       "3  normal           0   KXIP            0               6      GJ Maxwell   \n",
       "4  normal           0    RCB           15               0       KM Jadhav   \n",
       "\n",
       "                                       venue         umpire1        umpire2  \n",
       "0  Rajiv Gandhi International Stadium, Uppal     AY Dandekar       NJ Llong  \n",
       "1    Maharashtra Cricket Association Stadium  A Nand Kishore         S Ravi  \n",
       "2     Saurashtra Cricket Association Stadium     Nitin Menon      CK Nandan  \n",
       "3                     Holkar Cricket Stadium    AK Chaudhary  C Shamshuddin  \n",
       "4                      M Chinnaswamy Stadium             NaN            NaN  "
      ]
     },
     "execution_count": 50,
     "metadata": {},
     "output_type": "execute_result"
    }
   ],
   "source": [
    "matches.head()"
   ]
  },
  {
   "cell_type": "code",
   "execution_count": 51,
   "metadata": {},
   "outputs": [
    {
     "data": {
      "text/html": [
       "<div>\n",
       "<style scoped>\n",
       "    .dataframe tbody tr th:only-of-type {\n",
       "        vertical-align: middle;\n",
       "    }\n",
       "\n",
       "    .dataframe tbody tr th {\n",
       "        vertical-align: top;\n",
       "    }\n",
       "\n",
       "    .dataframe thead th {\n",
       "        text-align: right;\n",
       "    }\n",
       "</style>\n",
       "<table border=\"1\" class=\"dataframe\">\n",
       "  <thead>\n",
       "    <tr style=\"text-align: right;\">\n",
       "      <th></th>\n",
       "      <th>match_id</th>\n",
       "      <th>inning</th>\n",
       "      <th>batting_team</th>\n",
       "      <th>bowling_team</th>\n",
       "      <th>over</th>\n",
       "      <th>ball</th>\n",
       "      <th>batsman</th>\n",
       "      <th>non_striker</th>\n",
       "      <th>bowler</th>\n",
       "      <th>is_super_over</th>\n",
       "      <th>...</th>\n",
       "      <th>bye_runs</th>\n",
       "      <th>legbye_runs</th>\n",
       "      <th>noball_runs</th>\n",
       "      <th>penalty_runs</th>\n",
       "      <th>batsman_runs</th>\n",
       "      <th>extra_runs</th>\n",
       "      <th>total_runs</th>\n",
       "      <th>player_dismissed</th>\n",
       "      <th>dismissal_kind</th>\n",
       "      <th>fielder</th>\n",
       "    </tr>\n",
       "  </thead>\n",
       "  <tbody>\n",
       "    <tr>\n",
       "      <td>0</td>\n",
       "      <td>1</td>\n",
       "      <td>1</td>\n",
       "      <td>SRH</td>\n",
       "      <td>RCB</td>\n",
       "      <td>1</td>\n",
       "      <td>1</td>\n",
       "      <td>DA Warner</td>\n",
       "      <td>S Dhawan</td>\n",
       "      <td>TS Mills</td>\n",
       "      <td>0</td>\n",
       "      <td>...</td>\n",
       "      <td>0</td>\n",
       "      <td>0</td>\n",
       "      <td>0</td>\n",
       "      <td>0</td>\n",
       "      <td>0</td>\n",
       "      <td>0</td>\n",
       "      <td>0</td>\n",
       "      <td>0</td>\n",
       "      <td>0</td>\n",
       "      <td>0</td>\n",
       "    </tr>\n",
       "    <tr>\n",
       "      <td>1</td>\n",
       "      <td>1</td>\n",
       "      <td>1</td>\n",
       "      <td>SRH</td>\n",
       "      <td>RCB</td>\n",
       "      <td>1</td>\n",
       "      <td>2</td>\n",
       "      <td>DA Warner</td>\n",
       "      <td>S Dhawan</td>\n",
       "      <td>TS Mills</td>\n",
       "      <td>0</td>\n",
       "      <td>...</td>\n",
       "      <td>0</td>\n",
       "      <td>0</td>\n",
       "      <td>0</td>\n",
       "      <td>0</td>\n",
       "      <td>0</td>\n",
       "      <td>0</td>\n",
       "      <td>0</td>\n",
       "      <td>0</td>\n",
       "      <td>0</td>\n",
       "      <td>0</td>\n",
       "    </tr>\n",
       "    <tr>\n",
       "      <td>2</td>\n",
       "      <td>1</td>\n",
       "      <td>1</td>\n",
       "      <td>SRH</td>\n",
       "      <td>RCB</td>\n",
       "      <td>1</td>\n",
       "      <td>3</td>\n",
       "      <td>DA Warner</td>\n",
       "      <td>S Dhawan</td>\n",
       "      <td>TS Mills</td>\n",
       "      <td>0</td>\n",
       "      <td>...</td>\n",
       "      <td>0</td>\n",
       "      <td>0</td>\n",
       "      <td>0</td>\n",
       "      <td>0</td>\n",
       "      <td>4</td>\n",
       "      <td>0</td>\n",
       "      <td>4</td>\n",
       "      <td>0</td>\n",
       "      <td>0</td>\n",
       "      <td>0</td>\n",
       "    </tr>\n",
       "    <tr>\n",
       "      <td>3</td>\n",
       "      <td>1</td>\n",
       "      <td>1</td>\n",
       "      <td>SRH</td>\n",
       "      <td>RCB</td>\n",
       "      <td>1</td>\n",
       "      <td>4</td>\n",
       "      <td>DA Warner</td>\n",
       "      <td>S Dhawan</td>\n",
       "      <td>TS Mills</td>\n",
       "      <td>0</td>\n",
       "      <td>...</td>\n",
       "      <td>0</td>\n",
       "      <td>0</td>\n",
       "      <td>0</td>\n",
       "      <td>0</td>\n",
       "      <td>0</td>\n",
       "      <td>0</td>\n",
       "      <td>0</td>\n",
       "      <td>0</td>\n",
       "      <td>0</td>\n",
       "      <td>0</td>\n",
       "    </tr>\n",
       "    <tr>\n",
       "      <td>4</td>\n",
       "      <td>1</td>\n",
       "      <td>1</td>\n",
       "      <td>SRH</td>\n",
       "      <td>RCB</td>\n",
       "      <td>1</td>\n",
       "      <td>5</td>\n",
       "      <td>DA Warner</td>\n",
       "      <td>S Dhawan</td>\n",
       "      <td>TS Mills</td>\n",
       "      <td>0</td>\n",
       "      <td>...</td>\n",
       "      <td>0</td>\n",
       "      <td>0</td>\n",
       "      <td>0</td>\n",
       "      <td>0</td>\n",
       "      <td>0</td>\n",
       "      <td>2</td>\n",
       "      <td>2</td>\n",
       "      <td>0</td>\n",
       "      <td>0</td>\n",
       "      <td>0</td>\n",
       "    </tr>\n",
       "  </tbody>\n",
       "</table>\n",
       "<p>5 rows × 21 columns</p>\n",
       "</div>"
      ],
      "text/plain": [
       "   match_id  inning batting_team bowling_team  over  ball    batsman  \\\n",
       "0         1       1          SRH          RCB     1     1  DA Warner   \n",
       "1         1       1          SRH          RCB     1     2  DA Warner   \n",
       "2         1       1          SRH          RCB     1     3  DA Warner   \n",
       "3         1       1          SRH          RCB     1     4  DA Warner   \n",
       "4         1       1          SRH          RCB     1     5  DA Warner   \n",
       "\n",
       "  non_striker    bowler  is_super_over  ...  bye_runs  legbye_runs  \\\n",
       "0    S Dhawan  TS Mills              0  ...         0            0   \n",
       "1    S Dhawan  TS Mills              0  ...         0            0   \n",
       "2    S Dhawan  TS Mills              0  ...         0            0   \n",
       "3    S Dhawan  TS Mills              0  ...         0            0   \n",
       "4    S Dhawan  TS Mills              0  ...         0            0   \n",
       "\n",
       "   noball_runs  penalty_runs  batsman_runs  extra_runs  total_runs  \\\n",
       "0            0             0             0           0           0   \n",
       "1            0             0             0           0           0   \n",
       "2            0             0             4           0           4   \n",
       "3            0             0             0           0           0   \n",
       "4            0             0             0           2           2   \n",
       "\n",
       "   player_dismissed dismissal_kind fielder  \n",
       "0                 0              0       0  \n",
       "1                 0              0       0  \n",
       "2                 0              0       0  \n",
       "3                 0              0       0  \n",
       "4                 0              0       0  \n",
       "\n",
       "[5 rows x 21 columns]"
      ]
     },
     "execution_count": 51,
     "metadata": {},
     "output_type": "execute_result"
    }
   ],
   "source": [
    "delivery.head()"
   ]
  },
  {
   "cell_type": "code",
   "execution_count": 57,
   "metadata": {},
   "outputs": [
    {
     "data": {
      "image/png": "[encoded data removed]",
      "text/plain": [
       "<Figure size 720x432 with 1 Axes>"
      ]
     },
     "metadata": {
      "needs_background": "light"
     },
     "output_type": "display_data"
    }
   ],
   "source": [
    "batsmen = matches[['id','season']].merge(delivery, left_on = 'id', right_on = 'match_id', how = 'left').drop('id', axis = 1)\n",
    "season=batsmen.groupby('season')['total_runs'].sum().reset_index()\n",
    "season.set_index('season').plot(marker='o')\n",
    "mlt.gcf().set_size_inches(10,6)\n",
    "mlt.title('Total Runs Across the Seasons')\n",
    "mlt.show()"
   ]
  },
  {
   "cell_type": "code",
   "execution_count": 68,
   "metadata": {},
   "outputs": [
    {
     "data": {
      "image/png": "[encoded data removed]",
      "text/plain": [
       "<Figure size 720x432 with 1 Axes>"
      ]
     },
     "metadata": {
      "needs_background": "light"
     },
     "output_type": "display_data"
    }
   ],
   "source": [
    "avgruns_each_season=matches.groupby(['season']).count().id.reset_index()\n",
    "avgruns_each_season.rename(columns={'id':'matches'},inplace=1)\n",
    "avgruns_each_season['total_runs']=season['total_runs']\n",
    "avgruns_each_season['average_runs_per_match']=avgruns_each_season['total_runs']/avgruns_each_season['matches']\n",
    "avgruns_each_season.set_index('season')['average_runs_per_match'].plot(marker='o')\n",
    "mlt.gcf().set_size_inches(10,6)\n",
    "mlt.title('Average Runs per match across Seasons')\n",
    "mlt.show()"
   ]
  },
  {
   "cell_type": "code",
   "execution_count": 74,
   "metadata": {},
   "outputs": [
    {
     "data": {
      "image/png": "[encoded data removed]",
      "text/plain": [
       "<Figure size 720x432 with 1 Axes>"
      ]
     },
     "metadata": {
      "needs_background": "light"
     },
     "output_type": "display_data"
    }
   ],
   "source": [
    "Season_boundaries=batsmen.groupby(\"season\")[\"batsman_runs\"].agg(lambda x: (x==6).sum()).reset_index()\n",
    "a=batsmen.groupby(\"season\")[\"batsman_runs\"].agg(lambda x: (x==4).sum()).reset_index()\n",
    "Season_boundaries=Season_boundaries.merge(a,left_on='season',right_on='season',how='left')\n",
    "Season_boundaries=Season_boundaries.rename(columns={'batsman_runs_x':'6\"s','batsman_runs_y':'4\"s'})\n",
    "Season_boundaries.set_index('season')[['6\"s','4\"s']].plot(marker='o')\n",
    "fig=mlt.gcf()\n",
    "fig.set_size_inches(10,6)\n",
    "mlt.show()"
   ]
  },
  {
   "cell_type": "code",
   "execution_count": 79,
   "metadata": {},
   "outputs": [
    {
     "data": {
      "image/png": "[encoded data removed]",
      "text/plain": [
       "<Figure size 720x1080 with 1 Axes>"
      ]
     },
     "metadata": {
      "needs_background": "light"
     },
     "output_type": "display_data"
    }
   ],
   "source": [
    "mlt.subplots(figsize=(10,15))\n",
    "ax = matches['venue'].value_counts().sort_values(ascending=True).plot.barh(width=.9,color=sns.color_palette('inferno',40))\n",
    "ax.set_xlabel('Grounds')\n",
    "ax.set_ylabel('count')\n",
    "mlt.show()"
   ]
  },
  {
   "cell_type": "code",
   "execution_count": 83,
   "metadata": {},
   "outputs": [
    {
     "data": {
      "image/png": "[encoded data removed]",
      "text/plain": [
       "<Figure size 720x432 with 1 Axes>"
      ]
     },
     "metadata": {
      "needs_background": "light"
     },
     "output_type": "display_data"
    }
   ],
   "source": [
    "mlt.subplots(figsize=(10,6))\n",
    "#the code used is very basic but gets the job done easily\n",
    "ax = matches['player_of_match'].value_counts().head(10).plot.bar(width=.8, color=sns.color_palette('inferno',10))  #counts the values corresponding \n",
    "# to each batsman and then filters out the top 10 batsman and then plots a bargraph \n",
    "ax.set_xlabel('player_of_match') \n",
    "ax.set_ylabel('count')\n",
    "for p in ax.patches:\n",
    "    ax.annotate(format(p.get_height()), (p.get_x()+0.28, p.get_height()+0.25))\n",
    "mlt.show()"
   ]
  },
  {
   "cell_type": "code",
   "execution_count": 93,
   "metadata": {},
   "outputs": [
    {
     "name": "stdout",
     "output_type": "stream",
     "text": [
      "Winners By Years\n",
      "[2008 'RR']\n",
      "[2009 'DC']\n",
      "[2010 'CSK']\n",
      "[2011 'CSK']\n",
      "[2012 'KKR']\n",
      "[2013 'MI']\n",
      "[2014 'KKR']\n",
      "[2015 'MI']\n",
      "[2016 'SRH']\n"
     ]
    }
   ],
   "source": [
    "print('Winners By Years')\n",
    "for i in range(2008,2017):\n",
    "    df=((matches[matches['season']==i]).iloc[-1]) \n",
    "    print(df[[1,10]].values)"
   ]
  },
  {
   "cell_type": "code",
   "execution_count": 98,
   "metadata": {},
   "outputs": [
    {
     "name": "stdout",
     "output_type": "stream",
     "text": [
      "\n",
      " Total Matches with Super Overs: 7\n"
     ]
    }
   ],
   "source": [
    "print('\\n Total Matches with Super Overs:',delivery[delivery['is_super_over']==1].match_id.nunique())"
   ]
  },
  {
   "cell_type": "code",
   "execution_count": 102,
   "metadata": {},
   "outputs": [
    {
     "name": "stdout",
     "output_type": "stream",
     "text": [
      "Teams who haven\"t ever played a super over are: ['DC', 'RPS', 'PW', 'KTK']\n"
     ]
    }
   ],
   "source": [
    "teams=['MI','KKR','RCB','DC','CSK','RR','DD','GL','KXIP','SRH','RPS','KTK','PW']\n",
    "play=delivery[delivery['is_super_over']==1].batting_team.unique()\n",
    "play=list(play)\n",
    "print('Teams who haven\"t ever played a super over are:' ,list(set(teams)-set(play)))"
   ]
  },
  {
   "cell_type": "code",
   "execution_count": 101,
   "metadata": {},
   "outputs": [
    {
     "data": {
      "image/png": "[encoded data removed]",
      "text/plain": [
       "<Figure size 720x432 with 1 Axes>"
      ]
     },
     "metadata": {
      "needs_background": "light"
     },
     "output_type": "display_data"
    }
   ],
   "source": [
    "mlt.subplots(figsize=(10,6))\n",
    "ump=pd.concat([matches['umpire1'],matches['umpire2']]) \n",
    "ax=ump.value_counts().head(10).plot.bar(width=0.8,color=sns.color_palette('summer',10))\n",
    "for p in ax.patches:\n",
    "    ax.annotate(format(p.get_height()), (p.get_x()+0.15, p.get_height()+0.25))\n",
    "mlt.show()"
   ]
  },
  {
   "cell_type": "code",
   "execution_count": 125,
   "metadata": {},
   "outputs": [
    {
     "data": {
      "image/png": "[encoded data removed]",
      "text/plain": [
       "<Figure size 720x432 with 1 Axes>"
      ]
     },
     "metadata": {
      "needs_background": "light"
     },
     "output_type": "display_data"
    }
   ],
   "source": [
    "def team1_vs_team2(team1,team2):\n",
    "    mt1=matches[((matches['team1']==team1)|(matches['team2']==team1))&((matches['team1']==team2)|(matches['team2']==team2))]\n",
    "    sns.countplot(x='season', hue='winner',data=mt1,palette='Set3')\n",
    "    mlt.xticks(rotation='vertical')\n",
    "    leg = mlt.legend( loc = 'upper center')\n",
    "    fig=mlt.gcf()\n",
    "    fig.set_size_inches(10,6)\n",
    "    mlt.show()\n",
    "team1_vs_team2('MI','KKR')"
   ]
  },
  {
   "cell_type": "code",
   "execution_count": 115,
   "metadata": {},
   "outputs": [
    {
     "data": {
      "text/html": [
       "<div>\n",
       "<style scoped>\n",
       "    .dataframe tbody tr th:only-of-type {\n",
       "        vertical-align: middle;\n",
       "    }\n",
       "\n",
       "    .dataframe tbody tr th {\n",
       "        vertical-align: top;\n",
       "    }\n",
       "\n",
       "    .dataframe thead th {\n",
       "        text-align: right;\n",
       "    }\n",
       "</style>\n",
       "<table border=\"1\" class=\"dataframe\">\n",
       "  <thead>\n",
       "    <tr style=\"text-align: right;\">\n",
       "      <th></th>\n",
       "      <th>id</th>\n",
       "      <th>season</th>\n",
       "      <th>city</th>\n",
       "      <th>date</th>\n",
       "      <th>team1</th>\n",
       "      <th>team2</th>\n",
       "      <th>toss_winner</th>\n",
       "      <th>toss_decision</th>\n",
       "      <th>result</th>\n",
       "      <th>dl_applied</th>\n",
       "      <th>winner</th>\n",
       "      <th>win_by_runs</th>\n",
       "      <th>win_by_wickets</th>\n",
       "      <th>player_of_match</th>\n",
       "      <th>venue</th>\n",
       "      <th>umpire1</th>\n",
       "      <th>umpire2</th>\n",
       "    </tr>\n",
       "  </thead>\n",
       "  <tbody>\n",
       "    <tr>\n",
       "      <td>66</td>\n",
       "      <td>67</td>\n",
       "      <td>2008</td>\n",
       "      <td>Chennai</td>\n",
       "      <td>2008-04-23</td>\n",
       "      <td>CSK</td>\n",
       "      <td>MI</td>\n",
       "      <td>MI</td>\n",
       "      <td>field</td>\n",
       "      <td>normal</td>\n",
       "      <td>0</td>\n",
       "      <td>CSK</td>\n",
       "      <td>6</td>\n",
       "      <td>0</td>\n",
       "      <td>ML Hayden</td>\n",
       "      <td>MA Chidambaram Stadium, Chepauk</td>\n",
       "      <td>DJ Harper</td>\n",
       "      <td>GA Pratapkumar</td>\n",
       "    </tr>\n",
       "    <tr>\n",
       "      <td>95</td>\n",
       "      <td>96</td>\n",
       "      <td>2008</td>\n",
       "      <td>Mumbai</td>\n",
       "      <td>2008-05-14</td>\n",
       "      <td>CSK</td>\n",
       "      <td>MI</td>\n",
       "      <td>MI</td>\n",
       "      <td>field</td>\n",
       "      <td>normal</td>\n",
       "      <td>0</td>\n",
       "      <td>MI</td>\n",
       "      <td>0</td>\n",
       "      <td>9</td>\n",
       "      <td>ST Jayasuriya</td>\n",
       "      <td>Wankhede Stadium</td>\n",
       "      <td>BR Doctrove</td>\n",
       "      <td>AM Saheba</td>\n",
       "    </tr>\n",
       "    <tr>\n",
       "      <td>117</td>\n",
       "      <td>118</td>\n",
       "      <td>2009</td>\n",
       "      <td>Cape Town</td>\n",
       "      <td>2009-04-18</td>\n",
       "      <td>MI</td>\n",
       "      <td>CSK</td>\n",
       "      <td>CSK</td>\n",
       "      <td>field</td>\n",
       "      <td>normal</td>\n",
       "      <td>0</td>\n",
       "      <td>MI</td>\n",
       "      <td>19</td>\n",
       "      <td>0</td>\n",
       "      <td>SR Tendulkar</td>\n",
       "      <td>Newlands</td>\n",
       "      <td>BR Doctrove</td>\n",
       "      <td>K Hariharan</td>\n",
       "    </tr>\n",
       "    <tr>\n",
       "      <td>161</td>\n",
       "      <td>162</td>\n",
       "      <td>2009</td>\n",
       "      <td>Port Elizabeth</td>\n",
       "      <td>2009-05-16</td>\n",
       "      <td>MI</td>\n",
       "      <td>CSK</td>\n",
       "      <td>MI</td>\n",
       "      <td>bat</td>\n",
       "      <td>normal</td>\n",
       "      <td>0</td>\n",
       "      <td>CSK</td>\n",
       "      <td>0</td>\n",
       "      <td>7</td>\n",
       "      <td>ML Hayden</td>\n",
       "      <td>St George's Park</td>\n",
       "      <td>SK Tarapore</td>\n",
       "      <td>SJA Taufel</td>\n",
       "    </tr>\n",
       "    <tr>\n",
       "      <td>193</td>\n",
       "      <td>194</td>\n",
       "      <td>2010</td>\n",
       "      <td>Mumbai</td>\n",
       "      <td>2010-03-25</td>\n",
       "      <td>CSK</td>\n",
       "      <td>MI</td>\n",
       "      <td>MI</td>\n",
       "      <td>field</td>\n",
       "      <td>normal</td>\n",
       "      <td>0</td>\n",
       "      <td>MI</td>\n",
       "      <td>0</td>\n",
       "      <td>5</td>\n",
       "      <td>SR Tendulkar</td>\n",
       "      <td>Brabourne Stadium</td>\n",
       "      <td>BF Bowden</td>\n",
       "      <td>AM Saheba</td>\n",
       "    </tr>\n",
       "    <tr>\n",
       "      <td>210</td>\n",
       "      <td>211</td>\n",
       "      <td>2010</td>\n",
       "      <td>Chennai</td>\n",
       "      <td>2010-04-06</td>\n",
       "      <td>CSK</td>\n",
       "      <td>MI</td>\n",
       "      <td>CSK</td>\n",
       "      <td>bat</td>\n",
       "      <td>normal</td>\n",
       "      <td>0</td>\n",
       "      <td>CSK</td>\n",
       "      <td>24</td>\n",
       "      <td>0</td>\n",
       "      <td>SK Raina</td>\n",
       "      <td>MA Chidambaram Stadium, Chepauk</td>\n",
       "      <td>S Asnani</td>\n",
       "      <td>DJ Harper</td>\n",
       "    </tr>\n",
       "    <tr>\n",
       "      <td>233</td>\n",
       "      <td>234</td>\n",
       "      <td>2010</td>\n",
       "      <td>Mumbai</td>\n",
       "      <td>2010-04-25</td>\n",
       "      <td>CSK</td>\n",
       "      <td>MI</td>\n",
       "      <td>CSK</td>\n",
       "      <td>bat</td>\n",
       "      <td>normal</td>\n",
       "      <td>0</td>\n",
       "      <td>CSK</td>\n",
       "      <td>22</td>\n",
       "      <td>0</td>\n",
       "      <td>SK Raina</td>\n",
       "      <td>Dr DY Patil Sports Academy</td>\n",
       "      <td>RE Koertzen</td>\n",
       "      <td>SJA Taufel</td>\n",
       "    </tr>\n",
       "    <tr>\n",
       "      <td>256</td>\n",
       "      <td>257</td>\n",
       "      <td>2011</td>\n",
       "      <td>Mumbai</td>\n",
       "      <td>2011-04-22</td>\n",
       "      <td>MI</td>\n",
       "      <td>CSK</td>\n",
       "      <td>CSK</td>\n",
       "      <td>field</td>\n",
       "      <td>normal</td>\n",
       "      <td>0</td>\n",
       "      <td>MI</td>\n",
       "      <td>8</td>\n",
       "      <td>0</td>\n",
       "      <td>Harbhajan Singh</td>\n",
       "      <td>Wankhede Stadium</td>\n",
       "      <td>Asad Rauf</td>\n",
       "      <td>AM Saheba</td>\n",
       "    </tr>\n",
       "    <tr>\n",
       "      <td>307</td>\n",
       "      <td>308</td>\n",
       "      <td>2012</td>\n",
       "      <td>Chennai</td>\n",
       "      <td>2012-04-04</td>\n",
       "      <td>CSK</td>\n",
       "      <td>MI</td>\n",
       "      <td>MI</td>\n",
       "      <td>field</td>\n",
       "      <td>normal</td>\n",
       "      <td>0</td>\n",
       "      <td>MI</td>\n",
       "      <td>0</td>\n",
       "      <td>8</td>\n",
       "      <td>RE Levi</td>\n",
       "      <td>MA Chidambaram Stadium, Chepauk</td>\n",
       "      <td>JD Cloete</td>\n",
       "      <td>SJA Taufel</td>\n",
       "    </tr>\n",
       "    <tr>\n",
       "      <td>354</td>\n",
       "      <td>355</td>\n",
       "      <td>2012</td>\n",
       "      <td>Mumbai</td>\n",
       "      <td>2012-05-06</td>\n",
       "      <td>CSK</td>\n",
       "      <td>MI</td>\n",
       "      <td>MI</td>\n",
       "      <td>field</td>\n",
       "      <td>normal</td>\n",
       "      <td>0</td>\n",
       "      <td>MI</td>\n",
       "      <td>0</td>\n",
       "      <td>2</td>\n",
       "      <td>DR Smith</td>\n",
       "      <td>Wankhede Stadium</td>\n",
       "      <td>Asad Rauf</td>\n",
       "      <td>S Asnani</td>\n",
       "    </tr>\n",
       "    <tr>\n",
       "      <td>378</td>\n",
       "      <td>379</td>\n",
       "      <td>2012</td>\n",
       "      <td>Bangalore</td>\n",
       "      <td>2012-05-23</td>\n",
       "      <td>CSK</td>\n",
       "      <td>MI</td>\n",
       "      <td>MI</td>\n",
       "      <td>field</td>\n",
       "      <td>normal</td>\n",
       "      <td>0</td>\n",
       "      <td>CSK</td>\n",
       "      <td>38</td>\n",
       "      <td>0</td>\n",
       "      <td>MS Dhoni</td>\n",
       "      <td>M Chinnaswamy Stadium</td>\n",
       "      <td>BF Bowden</td>\n",
       "      <td>HDPK Dharmasena</td>\n",
       "    </tr>\n",
       "    <tr>\n",
       "      <td>385</td>\n",
       "      <td>386</td>\n",
       "      <td>2013</td>\n",
       "      <td>Chennai</td>\n",
       "      <td>2013-04-06</td>\n",
       "      <td>MI</td>\n",
       "      <td>CSK</td>\n",
       "      <td>MI</td>\n",
       "      <td>bat</td>\n",
       "      <td>normal</td>\n",
       "      <td>0</td>\n",
       "      <td>MI</td>\n",
       "      <td>9</td>\n",
       "      <td>0</td>\n",
       "      <td>KA Pollard</td>\n",
       "      <td>MA Chidambaram Stadium, Chepauk</td>\n",
       "      <td>M Erasmus</td>\n",
       "      <td>VA Kulkarni</td>\n",
       "    </tr>\n",
       "    <tr>\n",
       "      <td>429</td>\n",
       "      <td>430</td>\n",
       "      <td>2013</td>\n",
       "      <td>Mumbai</td>\n",
       "      <td>2013-05-05</td>\n",
       "      <td>MI</td>\n",
       "      <td>CSK</td>\n",
       "      <td>MI</td>\n",
       "      <td>bat</td>\n",
       "      <td>normal</td>\n",
       "      <td>0</td>\n",
       "      <td>MI</td>\n",
       "      <td>60</td>\n",
       "      <td>0</td>\n",
       "      <td>MG Johnson</td>\n",
       "      <td>Wankhede Stadium</td>\n",
       "      <td>HDPK Dharmasena</td>\n",
       "      <td>CK Nandan</td>\n",
       "    </tr>\n",
       "    <tr>\n",
       "      <td>453</td>\n",
       "      <td>454</td>\n",
       "      <td>2013</td>\n",
       "      <td>Delhi</td>\n",
       "      <td>2013-05-21</td>\n",
       "      <td>CSK</td>\n",
       "      <td>MI</td>\n",
       "      <td>CSK</td>\n",
       "      <td>bat</td>\n",
       "      <td>normal</td>\n",
       "      <td>0</td>\n",
       "      <td>CSK</td>\n",
       "      <td>48</td>\n",
       "      <td>0</td>\n",
       "      <td>MEK Hussey</td>\n",
       "      <td>Feroz Shah Kotla</td>\n",
       "      <td>NJ Llong</td>\n",
       "      <td>RJ Tucker</td>\n",
       "    </tr>\n",
       "    <tr>\n",
       "      <td>456</td>\n",
       "      <td>457</td>\n",
       "      <td>2013</td>\n",
       "      <td>Kolkata</td>\n",
       "      <td>2013-05-26</td>\n",
       "      <td>MI</td>\n",
       "      <td>CSK</td>\n",
       "      <td>MI</td>\n",
       "      <td>bat</td>\n",
       "      <td>normal</td>\n",
       "      <td>0</td>\n",
       "      <td>MI</td>\n",
       "      <td>23</td>\n",
       "      <td>0</td>\n",
       "      <td>KA Pollard</td>\n",
       "      <td>Eden Gardens</td>\n",
       "      <td>HDPK Dharmasena</td>\n",
       "      <td>SJA Taufel</td>\n",
       "    </tr>\n",
       "    <tr>\n",
       "      <td>469</td>\n",
       "      <td>470</td>\n",
       "      <td>2014</td>\n",
       "      <td>NaN</td>\n",
       "      <td>2014-04-25</td>\n",
       "      <td>MI</td>\n",
       "      <td>CSK</td>\n",
       "      <td>MI</td>\n",
       "      <td>bat</td>\n",
       "      <td>normal</td>\n",
       "      <td>0</td>\n",
       "      <td>CSK</td>\n",
       "      <td>0</td>\n",
       "      <td>7</td>\n",
       "      <td>MM Sharma</td>\n",
       "      <td>Dubai International Cricket Stadium</td>\n",
       "      <td>BF Bowden</td>\n",
       "      <td>M Erasmus</td>\n",
       "    </tr>\n",
       "    <tr>\n",
       "      <td>489</td>\n",
       "      <td>490</td>\n",
       "      <td>2014</td>\n",
       "      <td>Mumbai</td>\n",
       "      <td>2014-05-10</td>\n",
       "      <td>MI</td>\n",
       "      <td>CSK</td>\n",
       "      <td>CSK</td>\n",
       "      <td>field</td>\n",
       "      <td>normal</td>\n",
       "      <td>0</td>\n",
       "      <td>CSK</td>\n",
       "      <td>0</td>\n",
       "      <td>4</td>\n",
       "      <td>DR Smith</td>\n",
       "      <td>Wankhede Stadium</td>\n",
       "      <td>HDPK Dharmasena</td>\n",
       "      <td>VA Kulkarni</td>\n",
       "    </tr>\n",
       "    <tr>\n",
       "      <td>514</td>\n",
       "      <td>515</td>\n",
       "      <td>2014</td>\n",
       "      <td>Mumbai</td>\n",
       "      <td>2014-05-28</td>\n",
       "      <td>MI</td>\n",
       "      <td>CSK</td>\n",
       "      <td>CSK</td>\n",
       "      <td>field</td>\n",
       "      <td>normal</td>\n",
       "      <td>0</td>\n",
       "      <td>CSK</td>\n",
       "      <td>0</td>\n",
       "      <td>7</td>\n",
       "      <td>SK Raina</td>\n",
       "      <td>Brabourne Stadium</td>\n",
       "      <td>VA Kulkarni</td>\n",
       "      <td>BNJ Oxenford</td>\n",
       "    </tr>\n",
       "    <tr>\n",
       "      <td>529</td>\n",
       "      <td>530</td>\n",
       "      <td>2015</td>\n",
       "      <td>Mumbai</td>\n",
       "      <td>2015-04-17</td>\n",
       "      <td>MI</td>\n",
       "      <td>CSK</td>\n",
       "      <td>MI</td>\n",
       "      <td>bat</td>\n",
       "      <td>normal</td>\n",
       "      <td>0</td>\n",
       "      <td>CSK</td>\n",
       "      <td>0</td>\n",
       "      <td>6</td>\n",
       "      <td>A Nehra</td>\n",
       "      <td>Wankhede Stadium</td>\n",
       "      <td>AK Chaudhary</td>\n",
       "      <td>M Erasmus</td>\n",
       "    </tr>\n",
       "    <tr>\n",
       "      <td>558</td>\n",
       "      <td>559</td>\n",
       "      <td>2015</td>\n",
       "      <td>Chennai</td>\n",
       "      <td>2015-05-08</td>\n",
       "      <td>CSK</td>\n",
       "      <td>MI</td>\n",
       "      <td>CSK</td>\n",
       "      <td>bat</td>\n",
       "      <td>normal</td>\n",
       "      <td>0</td>\n",
       "      <td>MI</td>\n",
       "      <td>0</td>\n",
       "      <td>6</td>\n",
       "      <td>HH Pandya</td>\n",
       "      <td>MA Chidambaram Stadium, Chepauk</td>\n",
       "      <td>CB Gaffaney</td>\n",
       "      <td>CK Nandan</td>\n",
       "    </tr>\n",
       "    <tr>\n",
       "      <td>572</td>\n",
       "      <td>573</td>\n",
       "      <td>2015</td>\n",
       "      <td>Mumbai</td>\n",
       "      <td>2015-05-19</td>\n",
       "      <td>MI</td>\n",
       "      <td>CSK</td>\n",
       "      <td>MI</td>\n",
       "      <td>bat</td>\n",
       "      <td>normal</td>\n",
       "      <td>0</td>\n",
       "      <td>MI</td>\n",
       "      <td>25</td>\n",
       "      <td>0</td>\n",
       "      <td>KA Pollard</td>\n",
       "      <td>Wankhede Stadium</td>\n",
       "      <td>HDPK Dharmasena</td>\n",
       "      <td>RK Illingworth</td>\n",
       "    </tr>\n",
       "    <tr>\n",
       "      <td>575</td>\n",
       "      <td>576</td>\n",
       "      <td>2015</td>\n",
       "      <td>Kolkata</td>\n",
       "      <td>2015-05-24</td>\n",
       "      <td>MI</td>\n",
       "      <td>CSK</td>\n",
       "      <td>CSK</td>\n",
       "      <td>field</td>\n",
       "      <td>normal</td>\n",
       "      <td>0</td>\n",
       "      <td>MI</td>\n",
       "      <td>41</td>\n",
       "      <td>0</td>\n",
       "      <td>RG Sharma</td>\n",
       "      <td>Eden Gardens</td>\n",
       "      <td>HDPK Dharmasena</td>\n",
       "      <td>RK Illingworth</td>\n",
       "    </tr>\n",
       "  </tbody>\n",
       "</table>\n",
       "</div>"
      ],
      "text/plain": [
       "      id  season            city        date team1 team2 toss_winner  \\\n",
       "66    67    2008         Chennai  2008-04-23   CSK    MI          MI   \n",
       "95    96    2008          Mumbai  2008-05-14   CSK    MI          MI   \n",
       "117  118    2009       Cape Town  2009-04-18    MI   CSK         CSK   \n",
       "161  162    2009  Port Elizabeth  2009-05-16    MI   CSK          MI   \n",
       "193  194    2010          Mumbai  2010-03-25   CSK    MI          MI   \n",
       "210  211    2010         Chennai  2010-04-06   CSK    MI         CSK   \n",
       "233  234    2010          Mumbai  2010-04-25   CSK    MI         CSK   \n",
       "256  257    2011          Mumbai  2011-04-22    MI   CSK         CSK   \n",
       "307  308    2012         Chennai  2012-04-04   CSK    MI          MI   \n",
       "354  355    2012          Mumbai  2012-05-06   CSK    MI          MI   \n",
       "378  379    2012       Bangalore  2012-05-23   CSK    MI          MI   \n",
       "385  386    2013         Chennai  2013-04-06    MI   CSK          MI   \n",
       "429  430    2013          Mumbai  2013-05-05    MI   CSK          MI   \n",
       "453  454    2013           Delhi  2013-05-21   CSK    MI         CSK   \n",
       "456  457    2013         Kolkata  2013-05-26    MI   CSK          MI   \n",
       "469  470    2014             NaN  2014-04-25    MI   CSK          MI   \n",
       "489  490    2014          Mumbai  2014-05-10    MI   CSK         CSK   \n",
       "514  515    2014          Mumbai  2014-05-28    MI   CSK         CSK   \n",
       "529  530    2015          Mumbai  2015-04-17    MI   CSK          MI   \n",
       "558  559    2015         Chennai  2015-05-08   CSK    MI         CSK   \n",
       "572  573    2015          Mumbai  2015-05-19    MI   CSK          MI   \n",
       "575  576    2015         Kolkata  2015-05-24    MI   CSK         CSK   \n",
       "\n",
       "    toss_decision  result  dl_applied winner  win_by_runs  win_by_wickets  \\\n",
       "66          field  normal           0    CSK            6               0   \n",
       "95          field  normal           0     MI            0               9   \n",
       "117         field  normal           0     MI           19               0   \n",
       "161           bat  normal           0    CSK            0               7   \n",
       "193         field  normal           0     MI            0               5   \n",
       "210           bat  normal           0    CSK           24               0   \n",
       "233           bat  normal           0    CSK           22               0   \n",
       "256         field  normal           0     MI            8               0   \n",
       "307         field  normal           0     MI            0               8   \n",
       "354         field  normal           0     MI            0               2   \n",
       "378         field  normal           0    CSK           38               0   \n",
       "385           bat  normal           0     MI            9               0   \n",
       "429           bat  normal           0     MI           60               0   \n",
       "453           bat  normal           0    CSK           48               0   \n",
       "456           bat  normal           0     MI           23               0   \n",
       "469           bat  normal           0    CSK            0               7   \n",
       "489         field  normal           0    CSK            0               4   \n",
       "514         field  normal           0    CSK            0               7   \n",
       "529           bat  normal           0    CSK            0               6   \n",
       "558           bat  normal           0     MI            0               6   \n",
       "572           bat  normal           0     MI           25               0   \n",
       "575         field  normal           0     MI           41               0   \n",
       "\n",
       "     player_of_match                                venue          umpire1  \\\n",
       "66         ML Hayden      MA Chidambaram Stadium, Chepauk        DJ Harper   \n",
       "95     ST Jayasuriya                     Wankhede Stadium      BR Doctrove   \n",
       "117     SR Tendulkar                             Newlands      BR Doctrove   \n",
       "161        ML Hayden                     St George's Park      SK Tarapore   \n",
       "193     SR Tendulkar                    Brabourne Stadium        BF Bowden   \n",
       "210         SK Raina      MA Chidambaram Stadium, Chepauk         S Asnani   \n",
       "233         SK Raina           Dr DY Patil Sports Academy      RE Koertzen   \n",
       "256  Harbhajan Singh                     Wankhede Stadium        Asad Rauf   \n",
       "307          RE Levi      MA Chidambaram Stadium, Chepauk        JD Cloete   \n",
       "354         DR Smith                     Wankhede Stadium        Asad Rauf   \n",
       "378         MS Dhoni                M Chinnaswamy Stadium        BF Bowden   \n",
       "385       KA Pollard      MA Chidambaram Stadium, Chepauk        M Erasmus   \n",
       "429       MG Johnson                     Wankhede Stadium  HDPK Dharmasena   \n",
       "453       MEK Hussey                     Feroz Shah Kotla         NJ Llong   \n",
       "456       KA Pollard                         Eden Gardens  HDPK Dharmasena   \n",
       "469        MM Sharma  Dubai International Cricket Stadium        BF Bowden   \n",
       "489         DR Smith                     Wankhede Stadium  HDPK Dharmasena   \n",
       "514         SK Raina                    Brabourne Stadium      VA Kulkarni   \n",
       "529          A Nehra                     Wankhede Stadium     AK Chaudhary   \n",
       "558        HH Pandya      MA Chidambaram Stadium, Chepauk      CB Gaffaney   \n",
       "572       KA Pollard                     Wankhede Stadium  HDPK Dharmasena   \n",
       "575        RG Sharma                         Eden Gardens  HDPK Dharmasena   \n",
       "\n",
       "             umpire2  \n",
       "66    GA Pratapkumar  \n",
       "95         AM Saheba  \n",
       "117      K Hariharan  \n",
       "161       SJA Taufel  \n",
       "193        AM Saheba  \n",
       "210        DJ Harper  \n",
       "233       SJA Taufel  \n",
       "256        AM Saheba  \n",
       "307       SJA Taufel  \n",
       "354         S Asnani  \n",
       "378  HDPK Dharmasena  \n",
       "385      VA Kulkarni  \n",
       "429        CK Nandan  \n",
       "453        RJ Tucker  \n",
       "456       SJA Taufel  \n",
       "469        M Erasmus  \n",
       "489      VA Kulkarni  \n",
       "514     BNJ Oxenford  \n",
       "529        M Erasmus  \n",
       "558        CK Nandan  \n",
       "572   RK Illingworth  \n",
       "575   RK Illingworth  "
      ]
     },
     "execution_count": 115,
     "metadata": {},
     "output_type": "execute_result"
    }
   ],
   "source": [
    "def comparator(team1):\n",
    "    teams=['MI','KKR','RCB','DC','CSK','RR','DD','GL','KXIP','SRH','RPS','KTK','PW']\n",
    "    teams.remove(team1)\n",
    "    opponents=teams.copy()\n",
    "    mt1=matches[((matches['team1']==team1)|(matches['team2']==team1))]\n",
    "    for i in opponents:\n",
    "        mask = (((mt1['team1']==i)|(mt1['team2']==i)))&((mt1['team1']==team1)|(mt1['team2']==team1))\n",
    "        mt2 = mt1.loc[mask, 'winner'].value_counts().to_frame().T\n",
    "        print(mt2)"
   ]
  },
  {
   "cell_type": "code",
   "execution_count": 114,
   "metadata": {},
   "outputs": [
    {
     "data": {
      "text/plain": [
       "0      SRH\n",
       "1       MI\n",
       "2       GL\n",
       "3      RPS\n",
       "4      RCB\n",
       "      ... \n",
       "631     DD\n",
       "632     GL\n",
       "633    SRH\n",
       "634     GL\n",
       "635    SRH\n",
       "Name: team1, Length: 636, dtype: object"
      ]
     },
     "execution_count": 114,
     "metadata": {},
     "output_type": "execute_result"
    }
   ],
   "source": [
    "matches['team1']"
   ]
  },
  {
   "cell_type": "code",
   "execution_count": null,
   "metadata": {},
   "outputs": [],
   "source": []
  }
 ],
 "metadata": {
  "kernelspec": {
   "display_name": "Python 3",
   "language": "python",
   "name": "python3"
  },
  "language_info": {
   "codemirror_mode": {
    "name": "ipython",
    "version": 3
   },
   "file_extension": ".py",
   "mimetype": "text/x-python",
   "name": "python",
   "nbconvert_exporter": "python",
   "pygments_lexer": "ipython3",
   "version": "3.7.4"
  }
 },
 "nbformat": 4,
 "nbformat_minor": 2
}
